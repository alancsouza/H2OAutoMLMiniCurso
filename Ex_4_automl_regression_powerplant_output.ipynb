{
  "nbformat": 4,
  "nbformat_minor": 0,
  "metadata": {
    "colab": {
      "name": "automl_regression_powerplant_output.ipynb",
      "version": "0.3.2",
      "provenance": []
    },
    "kernelspec": {
      "display_name": "Python 3",
      "language": "python",
      "name": "python3"
    }
  },
  "cells": [
    {
      "metadata": {
        "id": "a3OmdRtGzd0F",
        "colab_type": "text"
      },
      "cell_type": "markdown",
      "source": [
        "# Install H2O"
      ]
    },
    {
      "metadata": {
        "id": "XaEuxL5szotY",
        "colab_type": "code",
        "colab": {
          "base_uri": "https://localhost:8080/",
          "height": 13645
        },
        "outputId": "feb15e82-3d58-446f-cba7-3ed898838d95"
      },
      "cell_type": "code",
      "source": [
        "! apt-get install default-jre\n",
        "! java-version\n",
        "! pip install h2o"
      ],
      "execution_count": 1,
      "outputs": [
        {
          "output_type": "stream",
          "text": [
            "\rReading package lists... 0%\r\rReading package lists... 0%\r\rReading package lists... 1%\r\rReading package lists... 11%\r\rReading package lists... 11%\r\rReading package lists... 11%\r\rReading package lists... 11%\r\rReading package lists... 91%\r\rReading package lists... 91%\r\rReading package lists... 92%\r\rReading package lists... 92%\r\rReading package lists... 95%\r\rReading package lists... 95%\r\rReading package lists... 95%\r\rReading package lists... 95%\r\rReading package lists... 96%\r\rReading package lists... 96%\r\rReading package lists... 96%\r\rReading package lists... 96%\r\rReading package lists... 96%\r\rReading package lists... 96%\r\rReading package lists... 96%\r\rReading package lists... 96%\r\rReading package lists... 96%\r\rReading package lists... 98%\r\rReading package lists... 98%\r\rReading package lists... 98%\r\rReading package lists... 98%\r\rReading package lists... 99%\r\rReading package lists... 99%\r\rReading package lists... 99%\r\rReading package lists... 99%\r\rReading package lists... Done\r\n",
            "\rBuilding dependency tree... 0%\r\rBuilding dependency tree... 0%\r\rBuilding dependency tree... 50%\r\rBuilding dependency tree... 50%\r\rBuilding dependency tree       \r\n",
            "\rReading state information... 0%\r\rReading state information... 0%\r\rReading state information... Done\r\n",
            "The following additional packages will be installed:\n",
            "  adwaita-icon-theme at-spi2-core ca-certificates-java dbus\n",
            "  default-jre-headless fontconfig fonts-dejavu-extra gtk-update-icon-cache\n",
            "  hicolor-icon-theme humanity-icon-theme java-common libapparmor1 libasound2\n",
            "  libasound2-data libasyncns0 libatk-bridge2.0-0 libatk-wrapper-java\n",
            "  libatk-wrapper-java-jni libatk1.0-0 libatk1.0-data libatspi2.0-0\n",
            "  libavahi-client3 libavahi-common-data libavahi-common3 libcairo2 libcroco3\n",
            "  libcups2 libdatrie1 libdbus-1-3 libdrm-amdgpu1 libdrm-common libdrm-intel1\n",
            "  libdrm-nouveau2 libdrm-radeon1 libdrm2 libelf1 libflac8 libfontenc1\n",
            "  libgail-common libgail18 libgdk-pixbuf2.0-0 libgdk-pixbuf2.0-bin\n",
            "  libgdk-pixbuf2.0-common libgif7 libgl1-mesa-dri libgl1-mesa-glx\n",
            "  libglapi-mesa libgraphite2-3 libgtk2.0-0 libgtk2.0-bin libgtk2.0-common\n",
            "  libharfbuzz0b libjbig0 liblcms2-2 libllvm5.0 libnspr4 libnss3 libogg0\n",
            "  libpango-1.0-0 libpangocairo-1.0-0 libpangoft2-1.0-0 libpciaccess0\n",
            "  libpcsclite1 libpixman-1-0 libpulse0 librsvg2-2 librsvg2-common libsensors4\n",
            "  libsndfile1 libthai-data libthai0 libtiff5 libtxc-dxtn-s2tc libvorbis0a\n",
            "  libvorbisenc2 libwrap0 libx11-xcb1 libxaw7 libxcb-dri2-0 libxcb-dri3-0\n",
            "  libxcb-glx0 libxcb-present0 libxcb-render0 libxcb-shape0 libxcb-shm0\n",
            "  libxcb-sync1 libxcomposite1 libxcursor1 libxdamage1 libxfixes3 libxi6\n",
            "  libxinerama1 libxmu6 libxmuu1 libxpm4 libxrandr2 libxshmfence1 libxt6\n",
            "  libxtst6 libxv1 libxxf86dga1 libxxf86vm1 openjdk-8-jre\n",
            "  openjdk-8-jre-headless shared-mime-info tcpd ubuntu-mono x11-utils\n",
            "Suggested packages:\n",
            "  default-dbus-session-bus | dbus-session-bus default-java-plugin\n",
            "  libasound2-plugins alsa-utils cups-common gvfs liblcms2-utils pciutils pcscd\n",
            "  pulseaudio librsvg2-bin lm-sensors icedtea-8-plugin libnss-mdns\n",
            "  fonts-ipafont-gothic fonts-ipafont-mincho fonts-wqy-microhei\n",
            "  fonts-wqy-zenhei fonts-indic mesa-utils\n",
            "The following NEW packages will be installed:\n",
            "  adwaita-icon-theme at-spi2-core ca-certificates-java dbus default-jre\n",
            "  default-jre-headless fontconfig fonts-dejavu-extra gtk-update-icon-cache\n",
            "  hicolor-icon-theme humanity-icon-theme java-common libapparmor1 libasound2\n",
            "  libasound2-data libasyncns0 libatk-bridge2.0-0 libatk-wrapper-java\n",
            "  libatk-wrapper-java-jni libatk1.0-0 libatk1.0-data libatspi2.0-0\n",
            "  libavahi-client3 libavahi-common-data libavahi-common3 libcairo2 libcroco3\n",
            "  libcups2 libdatrie1 libdbus-1-3 libdrm-amdgpu1 libdrm-common libdrm-intel1\n",
            "  libdrm-nouveau2 libdrm-radeon1 libdrm2 libelf1 libflac8 libfontenc1\n",
            "  libgail-common libgail18 libgdk-pixbuf2.0-0 libgdk-pixbuf2.0-bin\n",
            "  libgdk-pixbuf2.0-common libgif7 libgl1-mesa-dri libgl1-mesa-glx\n",
            "  libglapi-mesa libgraphite2-3 libgtk2.0-0 libgtk2.0-bin libgtk2.0-common\n",
            "  libharfbuzz0b libjbig0 liblcms2-2 libllvm5.0 libnspr4 libnss3 libogg0\n",
            "  libpango-1.0-0 libpangocairo-1.0-0 libpangoft2-1.0-0 libpciaccess0\n",
            "  libpcsclite1 libpixman-1-0 libpulse0 librsvg2-2 librsvg2-common libsensors4\n",
            "  libsndfile1 libthai-data libthai0 libtiff5 libtxc-dxtn-s2tc libvorbis0a\n",
            "  libvorbisenc2 libwrap0 libx11-xcb1 libxaw7 libxcb-dri2-0 libxcb-dri3-0\n",
            "  libxcb-glx0 libxcb-present0 libxcb-render0 libxcb-shape0 libxcb-shm0\n",
            "  libxcb-sync1 libxcomposite1 libxcursor1 libxdamage1 libxfixes3 libxi6\n",
            "  libxinerama1 libxmu6 libxmuu1 libxpm4 libxrandr2 libxshmfence1 libxt6\n",
            "  libxtst6 libxv1 libxxf86dga1 libxxf86vm1 openjdk-8-jre\n",
            "  openjdk-8-jre-headless shared-mime-info tcpd ubuntu-mono x11-utils\n",
            "0 upgraded, 109 newly installed, 0 to remove and 0 not upgraded.\n",
            "Need to get 63.2 MB of archives.\n",
            "After this operation, 360 MB of additional disk space will be used.\n",
            "Get:1 http://archive.ubuntu.com/ubuntu artful/main amd64 fontconfig amd64 2.11.94-0ubuntu2 [177 kB]\n",
            "Get:2 http://archive.ubuntu.com/ubuntu artful/main amd64 libogg0 amd64 1.3.2-1 [17.2 kB]\n",
            "Get:3 http://archive.ubuntu.com/ubuntu artful/main amd64 libxinerama1 amd64 2:1.1.3-1 [7,908 B]\n",
            "Get:4 http://archive.ubuntu.com/ubuntu artful/main amd64 libxshmfence1 amd64 1.2-1 [5,042 B]\n",
            "Get:5 http://archive.ubuntu.com/ubuntu artful/main amd64 libxxf86dga1 amd64 2:1.1.4-1 [13.7 kB]\n",
            "Get:6 http://archive.ubuntu.com/ubuntu artful/main amd64 libxxf86vm1 amd64 1:1.1.4-1 [10.6 kB]\n",
            "Get:7 http://archive.ubuntu.com/ubuntu artful/main amd64 libjbig0 amd64 2.1-3.1 [26.6 kB]\n",
            "Get:8 http://archive.ubuntu.com/ubuntu artful-updates/main amd64 libapparmor1 amd64 2.11.0-2ubuntu17.1 [28.9 kB]\n",
            "Get:9 http://archive.ubuntu.com/ubuntu artful/main amd64 libdbus-1-3 amd64 1.10.22-1ubuntu1 [165 kB]\n",
            "Get:10 http://archive.ubuntu.com/ubuntu artful/main amd64 dbus amd64 1.10.22-1ubuntu1 [144 kB]\n",
            "Get:11 http://archive.ubuntu.com/ubuntu artful/main amd64 libelf1 amd64 0.170-0.1 [44.3 kB]\n",
            "Get:12 http://archive.ubuntu.com/ubuntu artful/main amd64 shared-mime-info amd64 1.8-1 [420 kB]\n",
            "Get:13 http://archive.ubuntu.com/ubuntu artful/main amd64 libdrm-common all 2.4.83-1 [4,938 B]\n",
            "Get:14 http://archive.ubuntu.com/ubuntu artful/main amd64 libdrm2 amd64 2.4.83-1 [30.6 kB]\n",
            "Get:15 http://archive.ubuntu.com/ubuntu artful/main amd64 libxmuu1 amd64 2:1.1.2-2 [9,674 B]\n",
            "Get:16 http://archive.ubuntu.com/ubuntu artful/main amd64 hicolor-icon-theme all 0.17-1 [10.3 kB]\n",
            "Get:17 http://archive.ubuntu.com/ubuntu artful-updates/main amd64 libtiff5 amd64 4.0.8-5ubuntu0.1 [150 kB]\n",
            "Get:18 http://archive.ubuntu.com/ubuntu artful-updates/main amd64 libgdk-pixbuf2.0-common all 2.36.11-1ubuntu0.1 [4,488 B]\n",
            "Get:19 http://archive.ubuntu.com/ubuntu artful-updates/main amd64 libgdk-pixbuf2.0-0 amd64 2.36.11-1ubuntu0.1 [165 kB]\n",
            "Get:20 http://archive.ubuntu.com/ubuntu artful-updates/main amd64 gtk-update-icon-cache amd64 3.22.25-0ubuntu0.1 [27.6 kB]\n",
            "Get:21 http://archive.ubuntu.com/ubuntu artful/main amd64 libpixman-1-0 amd64 0.34.0-1 [230 kB]\n",
            "Get:22 http://archive.ubuntu.com/ubuntu artful/main amd64 libxcb-render0 amd64 1.12-1ubuntu1 [14.8 kB]\n",
            "Get:23 http://archive.ubuntu.com/ubuntu artful/main amd64 libxcb-shm0 amd64 1.12-1ubuntu1 [5,482 B]\n",
            "Get:24 http://archive.ubuntu.com/ubuntu artful/main amd64 libcairo2 amd64 1.14.10-1ubuntu1 [558 kB]\n",
            "Get:25 http://archive.ubuntu.com/ubuntu artful/main amd64 libcroco3 amd64 0.6.12-1 [81.3 kB]\n",
            "Get:26 http://archive.ubuntu.com/ubuntu artful/main amd64 libthai-data all 0.1.26-3 [132 kB]\n",
            "Get:27 http://archive.ubuntu.com/ubuntu artful/main amd64 libdatrie1 amd64 0.2.10-5 [17.6 kB]\n",
            "Get:28 http://archive.ubuntu.com/ubuntu artful/main amd64 libthai0 amd64 0.1.26-3 [17.7 kB]\n",
            "Get:29 http://archive.ubuntu.com/ubuntu artful/main amd64 libpango-1.0-0 amd64 1.40.12-1 [152 kB]\n",
            "Get:30 http://archive.ubuntu.com/ubuntu artful/main amd64 libgraphite2-3 amd64 1.3.10-2 [78.3 kB]\n",
            "Get:31 http://archive.ubuntu.com/ubuntu artful/main amd64 libharfbuzz0b amd64 1.4.2-1 [211 kB]\n",
            "Get:32 http://archive.ubuntu.com/ubuntu artful/main amd64 libpangoft2-1.0-0 amd64 1.40.12-1 [33.2 kB]\n",
            "Get:33 http://archive.ubuntu.com/ubuntu artful/main amd64 libpangocairo-1.0-0 amd64 1.40.12-1 [20.8 kB]\n",
            "Get:34 http://archive.ubuntu.com/ubuntu artful/main amd64 librsvg2-2 amd64 2.40.18-1 [95.2 kB]\n",
            "Get:35 http://archive.ubuntu.com/ubuntu artful/main amd64 librsvg2-common amd64 2.40.18-1 [5,106 B]\n",
            "Get:36 http://archive.ubuntu.com/ubuntu artful/main amd64 humanity-icon-theme all 0.6.13 [1,288 kB]\n",
            "Get:37 http://archive.ubuntu.com/ubuntu artful-updates/main amd64 ubuntu-mono all 16.10+17.10.20171115-0ubuntu1 [162 kB]\n",
            "Get:38 http://archive.ubuntu.com/ubuntu artful/main amd64 adwaita-icon-theme all 3.26.0-0ubuntu2 [3,452 kB]\n",
            "Get:39 http://archive.ubuntu.com/ubuntu artful/main amd64 libatspi2.0-0 amd64 2.26.0-2 [60.1 kB]\n",
            "Get:40 http://archive.ubuntu.com/ubuntu artful/main amd64 libxtst6 amd64 2:1.2.3-1 [12.8 kB]\n",
            "Get:41 http://archive.ubuntu.com/ubuntu artful/main amd64 at-spi2-core amd64 2.26.0-2 [48.6 kB]\n",
            "Get:42 http://archive.ubuntu.com/ubuntu artful/main amd64 java-common all 0.59ubuntu1 [7,232 B]\n",
            "Get:43 http://archive.ubuntu.com/ubuntu artful-updates/main amd64 libavahi-common-data amd64 0.6.32-1ubuntu1.1 [22.0 kB]\n",
            "Get:44 http://archive.ubuntu.com/ubuntu artful-updates/main amd64 libavahi-common3 amd64 0.6.32-1ubuntu1.1 [21.6 kB]\n",
            "Get:45 http://archive.ubuntu.com/ubuntu artful-updates/main amd64 libavahi-client3 amd64 0.6.32-1ubuntu1.1 [25.2 kB]\n",
            "Get:46 http://archive.ubuntu.com/ubuntu artful-updates/main amd64 libcups2 amd64 2.2.4-7ubuntu3.1 [209 kB]\n",
            "Get:47 http://archive.ubuntu.com/ubuntu artful/main amd64 liblcms2-2 amd64 2.7-1ubuntu1 [137 kB]\n",
            "Get:48 http://archive.ubuntu.com/ubuntu artful/main amd64 libnspr4 amd64 2:4.16-1ubuntu2 [112 kB]\n",
            "Get:49 http://archive.ubuntu.com/ubuntu artful/main amd64 libnss3 amd64 2:3.32-1ubuntu3 [1,141 kB]\n",
            "Get:50 http://archive.ubuntu.com/ubuntu artful/main amd64 libpcsclite1 amd64 1.8.22-1ubuntu1 [21.2 kB]\n",
            "Get:51 http://archive.ubuntu.com/ubuntu artful/main amd64 libxi6 amd64 2:1.7.9-1 [29.2 kB]\n",
            "Get:52 http://archive.ubuntu.com/ubuntu artful-updates/main amd64 openjdk-8-jre-headless amd64 8u171-b11-0ubuntu0.17.10.1 [27.3 MB]\n",
            "Get:53 http://archive.ubuntu.com/ubuntu artful/main amd64 default-jre-headless amd64 2:1.8-59ubuntu1 [3,680 B]\n",
            "Get:54 http://archive.ubuntu.com/ubuntu artful/main amd64 ca-certificates-java all 20170930 [12.0 kB]\n",
            "Get:55 http://archive.ubuntu.com/ubuntu artful/main amd64 libxrandr2 amd64 2:1.5.1-1 [18.1 kB]\n",
            "Get:56 http://archive.ubuntu.com/ubuntu artful-updates/main amd64 libglapi-mesa amd64 17.2.8-0ubuntu0~17.10.1 [22.2 kB]\n",
            "Get:57 http://archive.ubuntu.com/ubuntu artful/main amd64 libx11-xcb1 amd64 2:1.6.4-3 [9,626 B]\n",
            "Get:58 http://archive.ubuntu.com/ubuntu artful/main amd64 libxcb-dri2-0 amd64 1.12-1ubuntu1 [6,838 B]\n",
            "Get:59 http://archive.ubuntu.com/ubuntu artful/main amd64 libxcb-dri3-0 amd64 1.12-1ubuntu1 [5,156 B]\n",
            "Get:60 http://archive.ubuntu.com/ubuntu artful/main amd64 libxcb-glx0 amd64 1.12-1ubuntu1 [22.3 kB]\n",
            "Get:61 http://archive.ubuntu.com/ubuntu artful/main amd64 libxcb-present0 amd64 1.12-1ubuntu1 [5,436 B]\n",
            "Get:62 http://archive.ubuntu.com/ubuntu artful/main amd64 libxcb-sync1 amd64 1.12-1ubuntu1 [8,746 B]\n",
            "Get:63 http://archive.ubuntu.com/ubuntu artful/main amd64 libxdamage1 amd64 1:1.1.4-3 [6,934 B]\n",
            "Get:64 http://archive.ubuntu.com/ubuntu artful/main amd64 libxfixes3 amd64 1:5.0.3-1 [10.8 kB]\n",
            "Get:65 http://archive.ubuntu.com/ubuntu artful/main amd64 libdrm-amdgpu1 amd64 2.4.83-1 [18.5 kB]\n",
            "Get:66 http://archive.ubuntu.com/ubuntu artful/main amd64 libpciaccess0 amd64 0.13.4-1ubuntu1 [17.9 kB]\n",
            "Get:67 http://archive.ubuntu.com/ubuntu artful/main amd64 libdrm-intel1 amd64 2.4.83-1 [59.7 kB]\n",
            "Get:68 http://archive.ubuntu.com/ubuntu artful/main amd64 libdrm-nouveau2 amd64 2.4.83-1 [16.4 kB]\n",
            "Get:69 http://archive.ubuntu.com/ubuntu artful/main amd64 libdrm-radeon1 amd64 2.4.83-1 [21.6 kB]\n",
            "Get:70 http://archive.ubuntu.com/ubuntu artful/main amd64 libllvm5.0 amd64 1:5.0-3 [13.7 MB]\n",
            "Get:71 http://archive.ubuntu.com/ubuntu artful/main amd64 libsensors4 amd64 1:3.4.0-4 [28.8 kB]\n",
            "Get:72 http://archive.ubuntu.com/ubuntu artful-updates/main amd64 libgl1-mesa-dri amd64 17.2.8-0ubuntu0~17.10.1 [5,707 kB]\n",
            "Get:73 http://archive.ubuntu.com/ubuntu artful-updates/main amd64 libgl1-mesa-glx amd64 17.2.8-0ubuntu0~17.10.1 [130 kB]\n",
            "Get:74 http://archive.ubuntu.com/ubuntu artful/main amd64 libgtk2.0-common all 2.24.31-2ubuntu1 [124 kB]\n",
            "Get:75 http://archive.ubuntu.com/ubuntu artful/main amd64 libatk1.0-data all 2.26.0-2ubuntu1 [2,820 B]\n",
            "Get:76 http://archive.ubuntu.com/ubuntu artful/main amd64 libatk1.0-0 amd64 2.26.0-2ubuntu1 [44.2 kB]\n",
            "Get:77 http://archive.ubuntu.com/ubuntu artful/main amd64 libxcomposite1 amd64 1:0.4.4-2 [6,988 B]\n",
            "Get:78 http://archive.ubuntu.com/ubuntu artful-updates/main amd64 libxcursor1 amd64 1:1.1.14-3ubuntu0.1 [19.8 kB]\n",
            "Get:79 http://archive.ubuntu.com/ubuntu artful/main amd64 libgtk2.0-0 amd64 2.24.31-2ubuntu1 [1,773 kB]\n",
            "Get:80 http://archive.ubuntu.com/ubuntu artful/main amd64 libatk-bridge2.0-0 amd64 2.26.0-1ubuntu1 [54.2 kB]\n",
            "Get:81 http://archive.ubuntu.com/ubuntu artful/main amd64 libfontenc1 amd64 1:1.1.3-1 [13.9 kB]\n",
            "Get:82 http://archive.ubuntu.com/ubuntu artful/main amd64 libxt6 amd64 1:1.1.5-1 [160 kB]\n",
            "Get:83 http://archive.ubuntu.com/ubuntu artful/main amd64 libxmu6 amd64 2:1.1.2-2 [46.0 kB]\n",
            "Get:84 http://archive.ubuntu.com/ubuntu artful/main amd64 libxpm4 amd64 1:3.5.12-1 [34.0 kB]\n",
            "Get:85 http://archive.ubuntu.com/ubuntu artful/main amd64 libxaw7 amd64 2:1.0.13-1 [173 kB]\n",
            "Get:86 http://archive.ubuntu.com/ubuntu artful/main amd64 libxcb-shape0 amd64 1.12-1ubuntu1 [5,864 B]\n",
            "Get:87 http://archive.ubuntu.com/ubuntu artful/main amd64 libxv1 amd64 2:1.0.11-1 [10.7 kB]\n",
            "Get:88 http://archive.ubuntu.com/ubuntu artful/main amd64 x11-utils amd64 7.7+3build1 [196 kB]\n",
            "Get:89 http://archive.ubuntu.com/ubuntu artful/main amd64 libatk-wrapper-java all 0.33.3-13 [34.1 kB]\n",
            "Get:90 http://archive.ubuntu.com/ubuntu artful/main amd64 libatk-wrapper-java-jni amd64 0.33.3-13 [27.2 kB]\n",
            "Get:91 http://archive.ubuntu.com/ubuntu artful/main amd64 libasound2-data all 1.1.3-5 [36.1 kB]\n",
            "Get:92 http://archive.ubuntu.com/ubuntu artful/main amd64 libasound2 amd64 1.1.3-5 [357 kB]\n",
            "Get:93 http://archive.ubuntu.com/ubuntu artful/main amd64 libgif7 amd64 5.1.4-1 [30.7 kB]\n",
            "Get:94 http://archive.ubuntu.com/ubuntu artful/main amd64 libasyncns0 amd64 0.8-6 [12.1 kB]\n",
            "Get:95 http://archive.ubuntu.com/ubuntu artful/main amd64 libflac8 amd64 1.3.2-1 [213 kB]\n",
            "Get:96 http://archive.ubuntu.com/ubuntu artful-updates/main amd64 libvorbis0a amd64 1.3.5-4ubuntu0.2 [86.5 kB]\n",
            "Get:97 http://archive.ubuntu.com/ubuntu artful-updates/main amd64 libvorbisenc2 amd64 1.3.5-4ubuntu0.2 [70.6 kB]\n",
            "Get:98 http://archive.ubuntu.com/ubuntu artful/main amd64 libsndfile1 amd64 1.0.28-4 [169 kB]\n",
            "Get:99 http://archive.ubuntu.com/ubuntu artful/main amd64 libwrap0 amd64 7.6.q-26 [46.1 kB]\n",
            "Get:100 http://archive.ubuntu.com/ubuntu artful-updates/main amd64 libpulse0 amd64 1:10.0-2ubuntu3.1 [265 kB]\n",
            "Get:101 http://archive.ubuntu.com/ubuntu artful-updates/main amd64 openjdk-8-jre amd64 8u171-b11-0ubuntu0.17.10.1 [69.7 kB]\n",
            "Get:102 http://archive.ubuntu.com/ubuntu artful/main amd64 default-jre amd64 2:1.8-59ubuntu1 [982 B]\n",
            "Get:103 http://archive.ubuntu.com/ubuntu artful/main amd64 fonts-dejavu-extra all 2.37-1 [1,953 kB]\n",
            "Get:104 http://archive.ubuntu.com/ubuntu artful/main amd64 libgail18 amd64 2.24.31-2ubuntu1 [14.1 kB]\n",
            "Get:105 http://archive.ubuntu.com/ubuntu artful/main amd64 libgail-common amd64 2.24.31-2ubuntu1 [112 kB]\n",
            "Get:106 http://archive.ubuntu.com/ubuntu artful-updates/main amd64 libgdk-pixbuf2.0-bin amd64 2.36.11-1ubuntu0.1 [7,802 B]\n",
            "Get:107 http://archive.ubuntu.com/ubuntu artful/main amd64 libgtk2.0-bin amd64 2.24.31-2ubuntu1 [7,448 B]\n",
            "Get:108 http://archive.ubuntu.com/ubuntu artful/main amd64 tcpd amd64 7.6.q-26 [23.5 kB]\n",
            "Get:109 http://archive.ubuntu.com/ubuntu artful/main amd64 libtxc-dxtn-s2tc amd64 1.0+git20151227-2 [48.4 kB]\n",
            "Fetched 63.2 MB in 5s (10.6 MB/s)\n",
            "Extracting templates from packages: 100%\n",
            "Selecting previously unselected package fontconfig.\n",
            "(Reading database ... 18408 files and directories currently installed.)\n",
            "Preparing to unpack .../000-fontconfig_2.11.94-0ubuntu2_amd64.deb ...\n",
            "Unpacking fontconfig (2.11.94-0ubuntu2) ...\n",
            "Selecting previously unselected package libogg0:amd64.\n",
            "Preparing to unpack .../001-libogg0_1.3.2-1_amd64.deb ...\n",
            "Unpacking libogg0:amd64 (1.3.2-1) ...\n",
            "Selecting previously unselected package libxinerama1:amd64.\n",
            "Preparing to unpack .../002-libxinerama1_2%3a1.1.3-1_amd64.deb ...\n",
            "Unpacking libxinerama1:amd64 (2:1.1.3-1) ...\n",
            "Selecting previously unselected package libxshmfence1:amd64.\n",
            "Preparing to unpack .../003-libxshmfence1_1.2-1_amd64.deb ...\n",
            "Unpacking libxshmfence1:amd64 (1.2-1) ...\n",
            "Selecting previously unselected package libxxf86dga1:amd64.\n",
            "Preparing to unpack .../004-libxxf86dga1_2%3a1.1.4-1_amd64.deb ...\n",
            "Unpacking libxxf86dga1:amd64 (2:1.1.4-1) ...\n",
            "Selecting previously unselected package libxxf86vm1:amd64.\n",
            "Preparing to unpack .../005-libxxf86vm1_1%3a1.1.4-1_amd64.deb ...\n",
            "Unpacking libxxf86vm1:amd64 (1:1.1.4-1) ...\n",
            "Selecting previously unselected package libjbig0:amd64.\n",
            "Preparing to unpack .../006-libjbig0_2.1-3.1_amd64.deb ...\n",
            "Unpacking libjbig0:amd64 (2.1-3.1) ...\n",
            "Selecting previously unselected package libapparmor1:amd64.\n",
            "Preparing to unpack .../007-libapparmor1_2.11.0-2ubuntu17.1_amd64.deb ...\n",
            "Unpacking libapparmor1:amd64 (2.11.0-2ubuntu17.1) ...\n",
            "Selecting previously unselected package libdbus-1-3:amd64.\n",
            "Preparing to unpack .../008-libdbus-1-3_1.10.22-1ubuntu1_amd64.deb ...\n",
            "Unpacking libdbus-1-3:amd64 (1.10.22-1ubuntu1) ...\n",
            "Selecting previously unselected package dbus.\n",
            "Preparing to unpack .../009-dbus_1.10.22-1ubuntu1_amd64.deb ...\n",
            "Unpacking dbus (1.10.22-1ubuntu1) ...\n",
            "Selecting previously unselected package libelf1:amd64.\n",
            "Preparing to unpack .../010-libelf1_0.170-0.1_amd64.deb ...\n",
            "Unpacking libelf1:amd64 (0.170-0.1) ...\n",
            "Selecting previously unselected package shared-mime-info.\n",
            "Preparing to unpack .../011-shared-mime-info_1.8-1_amd64.deb ...\n",
            "Unpacking shared-mime-info (1.8-1) ...\n",
            "Selecting previously unselected package libdrm-common.\n",
            "Preparing to unpack .../012-libdrm-common_2.4.83-1_all.deb ...\n",
            "Unpacking libdrm-common (2.4.83-1) ...\n",
            "Selecting previously unselected package libdrm2:amd64.\n",
            "Preparing to unpack .../013-libdrm2_2.4.83-1_amd64.deb ...\n",
            "Unpacking libdrm2:amd64 (2.4.83-1) ...\n",
            "Selecting previously unselected package libxmuu1:amd64.\n",
            "Preparing to unpack .../014-libxmuu1_2%3a1.1.2-2_amd64.deb ...\n",
            "Unpacking libxmuu1:amd64 (2:1.1.2-2) ...\n",
            "Selecting previously unselected package hicolor-icon-theme.\n",
            "Preparing to unpack .../015-hicolor-icon-theme_0.17-1_all.deb ...\n",
            "Unpacking hicolor-icon-theme (0.17-1) ...\n",
            "Selecting previously unselected package libtiff5:amd64.\n",
            "Preparing to unpack .../016-libtiff5_4.0.8-5ubuntu0.1_amd64.deb ...\n",
            "Unpacking libtiff5:amd64 (4.0.8-5ubuntu0.1) ...\n",
            "Selecting previously unselected package libgdk-pixbuf2.0-common.\n",
            "Preparing to unpack .../017-libgdk-pixbuf2.0-common_2.36.11-1ubuntu0.1_all.deb ...\n",
            "Unpacking libgdk-pixbuf2.0-common (2.36.11-1ubuntu0.1) ...\n",
            "Selecting previously unselected package libgdk-pixbuf2.0-0:amd64.\n",
            "Preparing to unpack .../018-libgdk-pixbuf2.0-0_2.36.11-1ubuntu0.1_amd64.deb ...\n",
            "Unpacking libgdk-pixbuf2.0-0:amd64 (2.36.11-1ubuntu0.1) ...\n",
            "Selecting previously unselected package gtk-update-icon-cache.\n",
            "Preparing to unpack .../019-gtk-update-icon-cache_3.22.25-0ubuntu0.1_amd64.deb ...\n",
            "No diversion 'diversion of /usr/sbin/update-icon-caches to /usr/sbin/update-icon-caches.gtk2 by libgtk-3-bin', none removed.\n",
            "No diversion 'diversion of /usr/share/man/man8/update-icon-caches.8.gz to /usr/share/man/man8/update-icon-caches.gtk2.8.gz by libgtk-3-bin', none removed.\n",
            "Unpacking gtk-update-icon-cache (3.22.25-0ubuntu0.1) ...\n",
            "Selecting previously unselected package libpixman-1-0:amd64.\n",
            "Preparing to unpack .../020-libpixman-1-0_0.34.0-1_amd64.deb ...\n",
            "Unpacking libpixman-1-0:amd64 (0.34.0-1) ...\n",
            "Selecting previously unselected package libxcb-render0:amd64.\n",
            "Preparing to unpack .../021-libxcb-render0_1.12-1ubuntu1_amd64.deb ...\n",
            "Unpacking libxcb-render0:amd64 (1.12-1ubuntu1) ...\n",
            "Selecting previously unselected package libxcb-shm0:amd64.\n",
            "Preparing to unpack .../022-libxcb-shm0_1.12-1ubuntu1_amd64.deb ...\n",
            "Unpacking libxcb-shm0:amd64 (1.12-1ubuntu1) ...\n",
            "Selecting previously unselected package libcairo2:amd64.\n",
            "Preparing to unpack .../023-libcairo2_1.14.10-1ubuntu1_amd64.deb ...\n",
            "Unpacking libcairo2:amd64 (1.14.10-1ubuntu1) ...\n",
            "Selecting previously unselected package libcroco3:amd64.\n",
            "Preparing to unpack .../024-libcroco3_0.6.12-1_amd64.deb ...\n",
            "Unpacking libcroco3:amd64 (0.6.12-1) ...\n",
            "Selecting previously unselected package libthai-data.\n",
            "Preparing to unpack .../025-libthai-data_0.1.26-3_all.deb ...\n",
            "Unpacking libthai-data (0.1.26-3) ...\n",
            "Selecting previously unselected package libdatrie1:amd64.\n",
            "Preparing to unpack .../026-libdatrie1_0.2.10-5_amd64.deb ...\n",
            "Unpacking libdatrie1:amd64 (0.2.10-5) ...\n",
            "Selecting previously unselected package libthai0:amd64.\n",
            "Preparing to unpack .../027-libthai0_0.1.26-3_amd64.deb ...\n",
            "Unpacking libthai0:amd64 (0.1.26-3) ...\n",
            "Selecting previously unselected package libpango-1.0-0:amd64.\n",
            "Preparing to unpack .../028-libpango-1.0-0_1.40.12-1_amd64.deb ...\n",
            "Unpacking libpango-1.0-0:amd64 (1.40.12-1) ...\n",
            "Selecting previously unselected package libgraphite2-3:amd64.\n",
            "Preparing to unpack .../029-libgraphite2-3_1.3.10-2_amd64.deb ...\n",
            "Unpacking libgraphite2-3:amd64 (1.3.10-2) ...\n",
            "Selecting previously unselected package libharfbuzz0b:amd64.\n",
            "Preparing to unpack .../030-libharfbuzz0b_1.4.2-1_amd64.deb ...\n",
            "Unpacking libharfbuzz0b:amd64 (1.4.2-1) ...\n",
            "Selecting previously unselected package libpangoft2-1.0-0:amd64.\n",
            "Preparing to unpack .../031-libpangoft2-1.0-0_1.40.12-1_amd64.deb ...\n",
            "Unpacking libpangoft2-1.0-0:amd64 (1.40.12-1) ...\n",
            "Selecting previously unselected package libpangocairo-1.0-0:amd64.\n",
            "Preparing to unpack .../032-libpangocairo-1.0-0_1.40.12-1_amd64.deb ...\n",
            "Unpacking libpangocairo-1.0-0:amd64 (1.40.12-1) ...\n",
            "Selecting previously unselected package librsvg2-2:amd64.\n",
            "Preparing to unpack .../033-librsvg2-2_2.40.18-1_amd64.deb ...\n",
            "Unpacking librsvg2-2:amd64 (2.40.18-1) ...\n",
            "Selecting previously unselected package librsvg2-common:amd64.\n",
            "Preparing to unpack .../034-librsvg2-common_2.40.18-1_amd64.deb ...\n",
            "Unpacking librsvg2-common:amd64 (2.40.18-1) ...\n",
            "Selecting previously unselected package humanity-icon-theme.\n",
            "Preparing to unpack .../035-humanity-icon-theme_0.6.13_all.deb ...\n",
            "Unpacking humanity-icon-theme (0.6.13) ...\n",
            "Selecting previously unselected package ubuntu-mono.\n",
            "Preparing to unpack .../036-ubuntu-mono_16.10+17.10.20171115-0ubuntu1_all.deb ...\n",
            "Unpacking ubuntu-mono (16.10+17.10.20171115-0ubuntu1) ...\n",
            "Selecting previously unselected package adwaita-icon-theme.\n",
            "Preparing to unpack .../037-adwaita-icon-theme_3.26.0-0ubuntu2_all.deb ...\n",
            "Unpacking adwaita-icon-theme (3.26.0-0ubuntu2) ...\n",
            "Selecting previously unselected package libatspi2.0-0:amd64.\n",
            "Preparing to unpack .../038-libatspi2.0-0_2.26.0-2_amd64.deb ...\n",
            "Unpacking libatspi2.0-0:amd64 (2.26.0-2) ...\n",
            "Selecting previously unselected package libxtst6:amd64.\n",
            "Preparing to unpack .../039-libxtst6_2%3a1.2.3-1_amd64.deb ...\n",
            "Unpacking libxtst6:amd64 (2:1.2.3-1) ...\n",
            "Selecting previously unselected package at-spi2-core.\n",
            "Preparing to unpack .../040-at-spi2-core_2.26.0-2_amd64.deb ...\n",
            "Unpacking at-spi2-core (2.26.0-2) ...\n",
            "Selecting previously unselected package java-common.\n",
            "Preparing to unpack .../041-java-common_0.59ubuntu1_all.deb ...\n",
            "Unpacking java-common (0.59ubuntu1) ...\n",
            "Selecting previously unselected package libavahi-common-data:amd64.\n",
            "Preparing to unpack .../042-libavahi-common-data_0.6.32-1ubuntu1.1_amd64.deb ...\n",
            "Unpacking libavahi-common-data:amd64 (0.6.32-1ubuntu1.1) ...\n",
            "Selecting previously unselected package libavahi-common3:amd64.\n",
            "Preparing to unpack .../043-libavahi-common3_0.6.32-1ubuntu1.1_amd64.deb ...\n",
            "Unpacking libavahi-common3:amd64 (0.6.32-1ubuntu1.1) ...\n",
            "Selecting previously unselected package libavahi-client3:amd64.\n",
            "Preparing to unpack .../044-libavahi-client3_0.6.32-1ubuntu1.1_amd64.deb ...\n",
            "Unpacking libavahi-client3:amd64 (0.6.32-1ubuntu1.1) ...\n",
            "Selecting previously unselected package libcups2:amd64.\n",
            "Preparing to unpack .../045-libcups2_2.2.4-7ubuntu3.1_amd64.deb ...\n",
            "Unpacking libcups2:amd64 (2.2.4-7ubuntu3.1) ...\n",
            "Selecting previously unselected package liblcms2-2:amd64.\n",
            "Preparing to unpack .../046-liblcms2-2_2.7-1ubuntu1_amd64.deb ...\n",
            "Unpacking liblcms2-2:amd64 (2.7-1ubuntu1) ...\n",
            "Selecting previously unselected package libnspr4:amd64.\n",
            "Preparing to unpack .../047-libnspr4_2%3a4.16-1ubuntu2_amd64.deb ...\n",
            "Unpacking libnspr4:amd64 (2:4.16-1ubuntu2) ...\n",
            "Selecting previously unselected package libnss3:amd64.\n",
            "Preparing to unpack .../048-libnss3_2%3a3.32-1ubuntu3_amd64.deb ...\n",
            "Unpacking libnss3:amd64 (2:3.32-1ubuntu3) ...\n",
            "Selecting previously unselected package libpcsclite1:amd64.\n",
            "Preparing to unpack .../049-libpcsclite1_1.8.22-1ubuntu1_amd64.deb ...\n",
            "Unpacking libpcsclite1:amd64 (1.8.22-1ubuntu1) ...\n",
            "Selecting previously unselected package libxi6:amd64.\n",
            "Preparing to unpack .../050-libxi6_2%3a1.7.9-1_amd64.deb ...\n",
            "Unpacking libxi6:amd64 (2:1.7.9-1) ...\n",
            "Selecting previously unselected package openjdk-8-jre-headless:amd64.\n",
            "Preparing to unpack .../051-openjdk-8-jre-headless_8u171-b11-0ubuntu0.17.10.1_amd64.deb ...\n",
            "Unpacking openjdk-8-jre-headless:amd64 (8u171-b11-0ubuntu0.17.10.1) ...\n",
            "Selecting previously unselected package default-jre-headless.\n",
            "Preparing to unpack .../052-default-jre-headless_2%3a1.8-59ubuntu1_amd64.deb ...\n",
            "Unpacking default-jre-headless (2:1.8-59ubuntu1) ...\n",
            "Selecting previously unselected package ca-certificates-java.\n",
            "Preparing to unpack .../053-ca-certificates-java_20170930_all.deb ...\n",
            "Unpacking ca-certificates-java (20170930) ...\n",
            "Selecting previously unselected package libxrandr2:amd64.\n",
            "Preparing to unpack .../054-libxrandr2_2%3a1.5.1-1_amd64.deb ...\n",
            "Unpacking libxrandr2:amd64 (2:1.5.1-1) ...\n",
            "Selecting previously unselected package libglapi-mesa:amd64.\n",
            "Preparing to unpack .../055-libglapi-mesa_17.2.8-0ubuntu0~17.10.1_amd64.deb ...\n",
            "Unpacking libglapi-mesa:amd64 (17.2.8-0ubuntu0~17.10.1) ...\n",
            "Selecting previously unselected package libx11-xcb1:amd64.\n",
            "Preparing to unpack .../056-libx11-xcb1_2%3a1.6.4-3_amd64.deb ...\n",
            "Unpacking libx11-xcb1:amd64 (2:1.6.4-3) ...\n",
            "Selecting previously unselected package libxcb-dri2-0:amd64.\n",
            "Preparing to unpack .../057-libxcb-dri2-0_1.12-1ubuntu1_amd64.deb ...\n",
            "Unpacking libxcb-dri2-0:amd64 (1.12-1ubuntu1) ...\n",
            "Selecting previously unselected package libxcb-dri3-0:amd64.\n",
            "Preparing to unpack .../058-libxcb-dri3-0_1.12-1ubuntu1_amd64.deb ...\n",
            "Unpacking libxcb-dri3-0:amd64 (1.12-1ubuntu1) ...\n",
            "Selecting previously unselected package libxcb-glx0:amd64.\n",
            "Preparing to unpack .../059-libxcb-glx0_1.12-1ubuntu1_amd64.deb ...\n",
            "Unpacking libxcb-glx0:amd64 (1.12-1ubuntu1) ...\n",
            "Selecting previously unselected package libxcb-present0:amd64.\n",
            "Preparing to unpack .../060-libxcb-present0_1.12-1ubuntu1_amd64.deb ...\n",
            "Unpacking libxcb-present0:amd64 (1.12-1ubuntu1) ...\n",
            "Selecting previously unselected package libxcb-sync1:amd64.\n",
            "Preparing to unpack .../061-libxcb-sync1_1.12-1ubuntu1_amd64.deb ...\n",
            "Unpacking libxcb-sync1:amd64 (1.12-1ubuntu1) ...\n",
            "Selecting previously unselected package libxdamage1:amd64.\n",
            "Preparing to unpack .../062-libxdamage1_1%3a1.1.4-3_amd64.deb ...\n",
            "Unpacking libxdamage1:amd64 (1:1.1.4-3) ...\n",
            "Selecting previously unselected package libxfixes3:amd64.\n",
            "Preparing to unpack .../063-libxfixes3_1%3a5.0.3-1_amd64.deb ...\n",
            "Unpacking libxfixes3:amd64 (1:5.0.3-1) ...\n",
            "Selecting previously unselected package libdrm-amdgpu1:amd64.\n",
            "Preparing to unpack .../064-libdrm-amdgpu1_2.4.83-1_amd64.deb ...\n",
            "Unpacking libdrm-amdgpu1:amd64 (2.4.83-1) ...\n",
            "Selecting previously unselected package libpciaccess0:amd64.\n",
            "Preparing to unpack .../065-libpciaccess0_0.13.4-1ubuntu1_amd64.deb ...\n",
            "Unpacking libpciaccess0:amd64 (0.13.4-1ubuntu1) ...\n",
            "Selecting previously unselected package libdrm-intel1:amd64.\n",
            "Preparing to unpack .../066-libdrm-intel1_2.4.83-1_amd64.deb ...\n",
            "Unpacking libdrm-intel1:amd64 (2.4.83-1) ...\n",
            "Selecting previously unselected package libdrm-nouveau2:amd64.\n",
            "Preparing to unpack .../067-libdrm-nouveau2_2.4.83-1_amd64.deb ...\n",
            "Unpacking libdrm-nouveau2:amd64 (2.4.83-1) ...\n",
            "Selecting previously unselected package libdrm-radeon1:amd64.\n",
            "Preparing to unpack .../068-libdrm-radeon1_2.4.83-1_amd64.deb ...\n",
            "Unpacking libdrm-radeon1:amd64 (2.4.83-1) ...\n",
            "Selecting previously unselected package libllvm5.0:amd64.\n",
            "Preparing to unpack .../069-libllvm5.0_1%3a5.0-3_amd64.deb ...\n",
            "Unpacking libllvm5.0:amd64 (1:5.0-3) ...\n",
            "Selecting previously unselected package libsensors4:amd64.\n",
            "Preparing to unpack .../070-libsensors4_1%3a3.4.0-4_amd64.deb ...\n",
            "Unpacking libsensors4:amd64 (1:3.4.0-4) ...\n",
            "Selecting previously unselected package libgl1-mesa-dri:amd64.\n",
            "Preparing to unpack .../071-libgl1-mesa-dri_17.2.8-0ubuntu0~17.10.1_amd64.deb ...\n",
            "Unpacking libgl1-mesa-dri:amd64 (17.2.8-0ubuntu0~17.10.1) ...\n",
            "Selecting previously unselected package libgl1-mesa-glx:amd64.\n",
            "Preparing to unpack .../072-libgl1-mesa-glx_17.2.8-0ubuntu0~17.10.1_amd64.deb ...\n",
            "Unpacking libgl1-mesa-glx:amd64 (17.2.8-0ubuntu0~17.10.1) ...\n",
            "Selecting previously unselected package libgtk2.0-common.\n",
            "Preparing to unpack .../073-libgtk2.0-common_2.24.31-2ubuntu1_all.deb ...\n",
            "Unpacking libgtk2.0-common (2.24.31-2ubuntu1) ...\n",
            "Selecting previously unselected package libatk1.0-data.\n",
            "Preparing to unpack .../074-libatk1.0-data_2.26.0-2ubuntu1_all.deb ...\n",
            "Unpacking libatk1.0-data (2.26.0-2ubuntu1) ...\n",
            "Selecting previously unselected package libatk1.0-0:amd64.\n",
            "Preparing to unpack .../075-libatk1.0-0_2.26.0-2ubuntu1_amd64.deb ...\n",
            "Unpacking libatk1.0-0:amd64 (2.26.0-2ubuntu1) ...\n",
            "Selecting previously unselected package libxcomposite1:amd64.\n",
            "Preparing to unpack .../076-libxcomposite1_1%3a0.4.4-2_amd64.deb ...\n",
            "Unpacking libxcomposite1:amd64 (1:0.4.4-2) ...\n",
            "Selecting previously unselected package libxcursor1:amd64.\n",
            "Preparing to unpack .../077-libxcursor1_1%3a1.1.14-3ubuntu0.1_amd64.deb ...\n",
            "Unpacking libxcursor1:amd64 (1:1.1.14-3ubuntu0.1) ...\n",
            "Selecting previously unselected package libgtk2.0-0:amd64.\n",
            "Preparing to unpack .../078-libgtk2.0-0_2.24.31-2ubuntu1_amd64.deb ...\n",
            "Unpacking libgtk2.0-0:amd64 (2.24.31-2ubuntu1) ...\n",
            "Selecting previously unselected package libatk-bridge2.0-0:amd64.\n",
            "Preparing to unpack .../079-libatk-bridge2.0-0_2.26.0-1ubuntu1_amd64.deb ...\n",
            "Unpacking libatk-bridge2.0-0:amd64 (2.26.0-1ubuntu1) ...\n",
            "Selecting previously unselected package libfontenc1:amd64.\n",
            "Preparing to unpack .../080-libfontenc1_1%3a1.1.3-1_amd64.deb ...\n",
            "Unpacking libfontenc1:amd64 (1:1.1.3-1) ...\n",
            "Selecting previously unselected package libxt6:amd64.\n",
            "Preparing to unpack .../081-libxt6_1%3a1.1.5-1_amd64.deb ...\n",
            "Unpacking libxt6:amd64 (1:1.1.5-1) ...\n",
            "Selecting previously unselected package libxmu6:amd64.\n",
            "Preparing to unpack .../082-libxmu6_2%3a1.1.2-2_amd64.deb ...\n",
            "Unpacking libxmu6:amd64 (2:1.1.2-2) ...\n",
            "Selecting previously unselected package libxpm4:amd64.\n",
            "Preparing to unpack .../083-libxpm4_1%3a3.5.12-1_amd64.deb ...\n",
            "Unpacking libxpm4:amd64 (1:3.5.12-1) ...\n",
            "Selecting previously unselected package libxaw7:amd64.\n",
            "Preparing to unpack .../084-libxaw7_2%3a1.0.13-1_amd64.deb ...\n",
            "Unpacking libxaw7:amd64 (2:1.0.13-1) ...\n",
            "Selecting previously unselected package libxcb-shape0:amd64.\n",
            "Preparing to unpack .../085-libxcb-shape0_1.12-1ubuntu1_amd64.deb ...\n",
            "Unpacking libxcb-shape0:amd64 (1.12-1ubuntu1) ...\n",
            "Selecting previously unselected package libxv1:amd64.\n",
            "Preparing to unpack .../086-libxv1_2%3a1.0.11-1_amd64.deb ...\n",
            "Unpacking libxv1:amd64 (2:1.0.11-1) ...\n",
            "Selecting previously unselected package x11-utils.\n",
            "Preparing to unpack .../087-x11-utils_7.7+3build1_amd64.deb ...\n",
            "Unpacking x11-utils (7.7+3build1) ...\n",
            "Selecting previously unselected package libatk-wrapper-java.\n",
            "Preparing to unpack .../088-libatk-wrapper-java_0.33.3-13_all.deb ...\n",
            "Unpacking libatk-wrapper-java (0.33.3-13) ...\n",
            "Selecting previously unselected package libatk-wrapper-java-jni:amd64.\n",
            "Preparing to unpack .../089-libatk-wrapper-java-jni_0.33.3-13_amd64.deb ...\n",
            "Unpacking libatk-wrapper-java-jni:amd64 (0.33.3-13) ...\n",
            "Selecting previously unselected package libasound2-data.\n",
            "Preparing to unpack .../090-libasound2-data_1.1.3-5_all.deb ...\n",
            "Unpacking libasound2-data (1.1.3-5) ...\n",
            "Selecting previously unselected package libasound2:amd64.\n",
            "Preparing to unpack .../091-libasound2_1.1.3-5_amd64.deb ...\n",
            "Unpacking libasound2:amd64 (1.1.3-5) ...\n",
            "Selecting previously unselected package libgif7:amd64.\n",
            "Preparing to unpack .../092-libgif7_5.1.4-1_amd64.deb ...\n",
            "Unpacking libgif7:amd64 (5.1.4-1) ...\n",
            "Selecting previously unselected package libasyncns0:amd64.\n",
            "Preparing to unpack .../093-libasyncns0_0.8-6_amd64.deb ...\n",
            "Unpacking libasyncns0:amd64 (0.8-6) ...\n",
            "Selecting previously unselected package libflac8:amd64.\n",
            "Preparing to unpack .../094-libflac8_1.3.2-1_amd64.deb ...\n",
            "Unpacking libflac8:amd64 (1.3.2-1) ...\n",
            "Selecting previously unselected package libvorbis0a:amd64.\n",
            "Preparing to unpack .../095-libvorbis0a_1.3.5-4ubuntu0.2_amd64.deb ...\n",
            "Unpacking libvorbis0a:amd64 (1.3.5-4ubuntu0.2) ...\n",
            "Selecting previously unselected package libvorbisenc2:amd64.\n",
            "Preparing to unpack .../096-libvorbisenc2_1.3.5-4ubuntu0.2_amd64.deb ...\n",
            "Unpacking libvorbisenc2:amd64 (1.3.5-4ubuntu0.2) ...\n",
            "Selecting previously unselected package libsndfile1:amd64.\n",
            "Preparing to unpack .../097-libsndfile1_1.0.28-4_amd64.deb ...\n",
            "Unpacking libsndfile1:amd64 (1.0.28-4) ...\n",
            "Selecting previously unselected package libwrap0:amd64.\n",
            "Preparing to unpack .../098-libwrap0_7.6.q-26_amd64.deb ...\n",
            "Unpacking libwrap0:amd64 (7.6.q-26) ...\n",
            "Selecting previously unselected package libpulse0:amd64.\n",
            "Preparing to unpack .../099-libpulse0_1%3a10.0-2ubuntu3.1_amd64.deb ...\n",
            "Unpacking libpulse0:amd64 (1:10.0-2ubuntu3.1) ...\n",
            "Selecting previously unselected package openjdk-8-jre:amd64.\n",
            "Preparing to unpack .../100-openjdk-8-jre_8u171-b11-0ubuntu0.17.10.1_amd64.deb ...\n",
            "Unpacking openjdk-8-jre:amd64 (8u171-b11-0ubuntu0.17.10.1) ...\n",
            "Selecting previously unselected package default-jre.\n",
            "Preparing to unpack .../101-default-jre_2%3a1.8-59ubuntu1_amd64.deb ...\n",
            "Unpacking default-jre (2:1.8-59ubuntu1) ...\n",
            "Selecting previously unselected package fonts-dejavu-extra.\n",
            "Preparing to unpack .../102-fonts-dejavu-extra_2.37-1_all.deb ...\n",
            "Unpacking fonts-dejavu-extra (2.37-1) ...\n",
            "Selecting previously unselected package libgail18:amd64.\n",
            "Preparing to unpack .../103-libgail18_2.24.31-2ubuntu1_amd64.deb ...\n",
            "Unpacking libgail18:amd64 (2.24.31-2ubuntu1) ...\n",
            "Selecting previously unselected package libgail-common:amd64.\n",
            "Preparing to unpack .../104-libgail-common_2.24.31-2ubuntu1_amd64.deb ...\n",
            "Unpacking libgail-common:amd64 (2.24.31-2ubuntu1) ...\n",
            "Selecting previously unselected package libgdk-pixbuf2.0-bin.\n",
            "Preparing to unpack .../105-libgdk-pixbuf2.0-bin_2.36.11-1ubuntu0.1_amd64.deb ...\n",
            "Unpacking libgdk-pixbuf2.0-bin (2.36.11-1ubuntu0.1) ...\n",
            "Selecting previously unselected package libgtk2.0-bin.\n",
            "Preparing to unpack .../106-libgtk2.0-bin_2.24.31-2ubuntu1_amd64.deb ...\n",
            "Unpacking libgtk2.0-bin (2.24.31-2ubuntu1) ...\n",
            "Selecting previously unselected package tcpd.\n",
            "Preparing to unpack .../107-tcpd_7.6.q-26_amd64.deb ...\n",
            "Unpacking tcpd (7.6.q-26) ...\n",
            "Selecting previously unselected package libtxc-dxtn-s2tc:amd64.\n",
            "Preparing to unpack .../108-libtxc-dxtn-s2tc_1.0+git20151227-2_amd64.deb ...\n",
            "Unpacking libtxc-dxtn-s2tc:amd64 (1.0+git20151227-2) ...\n",
            "Setting up libxi6:amd64 (2:1.7.9-1) ...\n",
            "Setting up libxcb-present0:amd64 (1.12-1ubuntu1) ...\n",
            "Setting up libxinerama1:amd64 (2:1.1.3-1) ...\n",
            "Setting up libxcb-dri2-0:amd64 (1.12-1ubuntu1) ...\n",
            "Setting up libxcb-dri3-0:amd64 (1.12-1ubuntu1) ...\n",
            "Setting up libxcb-glx0:amd64 (1.12-1ubuntu1) ...\n",
            "Setting up libgtk2.0-common (2.24.31-2ubuntu1) ...\n",
            "Setting up libxcb-render0:amd64 (1.12-1ubuntu1) ...\n",
            "Setting up libasyncns0:amd64 (0.8-6) ...\n",
            "Setting up libxdamage1:amd64 (1:1.1.4-3) ...\n",
            "Setting up libxfixes3:amd64 (1:5.0.3-1) ...\n",
            "Processing triggers for mime-support (3.60ubuntu1) ...\n",
            "Setting up liblcms2-2:amd64 (2.7-1ubuntu1) ...\n",
            "Setting up libjbig0:amd64 (2.1-3.1) ...\n",
            "Setting up libpcsclite1:amd64 (1.8.22-1ubuntu1) ...\n",
            "Setting up libelf1:amd64 (0.170-0.1) ...\n",
            "Setting up libasound2-data (1.1.3-5) ...\n",
            "Setting up libxshmfence1:amd64 (1.2-1) ...\n",
            "Setting up java-common (0.59ubuntu1) ...\n",
            "Setting up libgdk-pixbuf2.0-common (2.36.11-1ubuntu0.1) ...\n",
            "Setting up libllvm5.0:amd64 (1:5.0-3) ...\n",
            "Setting up libdatrie1:amd64 (0.2.10-5) ...\n",
            "Setting up libtiff5:amd64 (4.0.8-5ubuntu0.1) ...\n",
            "Setting up libtxc-dxtn-s2tc:amd64 (1.0+git20151227-2) ...\n",
            "update-alternatives: using /usr/lib/x86_64-linux-gnu/s2tc/libtxc_dxtn.so to provide /usr/lib/x86_64-linux-gnu/libtxc_dxtn.so (libtxc-dxtn-x86_64-linux-gnu) in auto mode\n",
            "Setting up libgif7:amd64 (5.1.4-1) ...\n",
            "Setting up libglapi-mesa:amd64 (17.2.8-0ubuntu0~17.10.1) ...\n",
            "Setting up libnspr4:amd64 (2:4.16-1ubuntu2) ...\n",
            "Setting up libxmuu1:amd64 (2:1.1.2-2) ...\n",
            "Setting up libxtst6:amd64 (2:1.2.3-1) ...\n",
            "Setting up libasound2:amd64 (1.1.3-5) ...\n",
            "Setting up libdrm-common (2.4.83-1) ...\n",
            "Setting up libgraphite2-3:amd64 (1.3.10-2) ...\n",
            "Setting up libcroco3:amd64 (0.6.12-1) ...\n",
            "Setting up libxcb-sync1:amd64 (1.12-1ubuntu1) ...\n",
            "Setting up libogg0:amd64 (1.3.2-1) ...\n",
            "Setting up libatk1.0-data (2.26.0-2ubuntu1) ...\n",
            "Setting up libx11-xcb1:amd64 (2:1.6.4-3) ...\n",
            "Setting up libpixman-1-0:amd64 (0.34.0-1) ...\n",
            "Setting up libxcursor1:amd64 (1:1.1.14-3ubuntu0.1) ...\n",
            "Setting up libxxf86dga1:amd64 (2:1.1.4-1) ...\n",
            "Processing triggers for libc-bin (2.26-0ubuntu2.1) ...\n",
            "Setting up libapparmor1:amd64 (2.11.0-2ubuntu17.1) ...\n",
            "Setting up libatk1.0-0:amd64 (2.26.0-2ubuntu1) ...\n",
            "Setting up libfontenc1:amd64 (1:1.1.3-1) ...\n",
            "Setting up libxcomposite1:amd64 (1:0.4.4-2) ...\n",
            "Setting up libxcb-shm0:amd64 (1.12-1ubuntu1) ...\n",
            "Setting up libxpm4:amd64 (1:3.5.12-1) ...\n",
            "Setting up libxt6:amd64 (1:1.1.5-1) ...\n",
            "Setting up libxcb-shape0:amd64 (1.12-1ubuntu1) ...\n",
            "Setting up libpciaccess0:amd64 (0.13.4-1ubuntu1) ...\n",
            "Setting up libxv1:amd64 (2:1.0.11-1) ...\n",
            "Setting up libsensors4:amd64 (1:3.4.0-4) ...\n",
            "Setting up shared-mime-info (1.8-1) ...\n",
            "Setting up libthai-data (0.1.26-3) ...\n",
            "Setting up libxxf86vm1:amd64 (1:1.1.4-1) ...\n",
            "Setting up fonts-dejavu-extra (2.37-1) ...\n",
            "Setting up libvorbis0a:amd64 (1.3.5-4ubuntu0.2) ...\n",
            "Processing triggers for ca-certificates (20170717) ...\n",
            "Updating certificates in /etc/ssl/certs...\n",
            "0 added, 0 removed; done.\n",
            "Running hooks in /etc/ca-certificates/update.d...\n",
            "done.\n",
            "Setting up hicolor-icon-theme (0.17-1) ...\n",
            "Setting up libxrandr2:amd64 (2:1.5.1-1) ...\n",
            "Setting up libdbus-1-3:amd64 (1.10.22-1ubuntu1) ...\n",
            "Setting up fontconfig (2.11.94-0ubuntu2) ...\n",
            "Regenerating fonts cache... done.\n",
            "Setting up libwrap0:amd64 (7.6.q-26) ...\n",
            "Setting up libavahi-common-data:amd64 (0.6.32-1ubuntu1.1) ...\n",
            "Setting up libcairo2:amd64 (1.14.10-1ubuntu1) ...\n",
            "Setting up libatspi2.0-0:amd64 (2.26.0-2) ...\n",
            "Setting up at-spi2-core (2.26.0-2) ...\n",
            "Setting up libgdk-pixbuf2.0-0:amd64 (2.36.11-1ubuntu0.1) ...\n",
            "Setting up libflac8:amd64 (1.3.2-1) ...\n",
            "Setting up libgdk-pixbuf2.0-bin (2.36.11-1ubuntu0.1) ...\n",
            "Setting up libnss3:amd64 (2:3.32-1ubuntu3) ...\n",
            "Setting up libharfbuzz0b:amd64 (1.4.2-1) ...\n",
            "Setting up libthai0:amd64 (0.1.26-3) ...\n",
            "Setting up tcpd (7.6.q-26) ...\n",
            "Setting up libxmu6:amd64 (2:1.1.2-2) ...\n",
            "Setting up libdrm2:amd64 (2.4.83-1) ...\n",
            "Setting up libdrm-intel1:amd64 (2.4.83-1) ...\n",
            "Setting up gtk-update-icon-cache (3.22.25-0ubuntu0.1) ...\n",
            "Setting up libpango-1.0-0:amd64 (1.40.12-1) ...\n",
            "Setting up libatk-bridge2.0-0:amd64 (2.26.0-1ubuntu1) ...\n",
            "Setting up libavahi-common3:amd64 (0.6.32-1ubuntu1.1) ...\n",
            "Setting up libdrm-radeon1:amd64 (2.4.83-1) ...\n",
            "Setting up dbus (1.10.22-1ubuntu1) ...\n",
            "Setting up libvorbisenc2:amd64 (1.3.5-4ubuntu0.2) ...\n",
            "Setting up libdrm-nouveau2:amd64 (2.4.83-1) ...\n",
            "Setting up libxaw7:amd64 (2:1.0.13-1) ...\n",
            "Setting up libdrm-amdgpu1:amd64 (2.4.83-1) ...\n",
            "Setting up libgl1-mesa-dri:amd64 (17.2.8-0ubuntu0~17.10.1) ...\n",
            "Setting up libpangoft2-1.0-0:amd64 (1.40.12-1) ...\n",
            "Setting up libsndfile1:amd64 (1.0.28-4) ...\n",
            "Setting up libgl1-mesa-glx:amd64 (17.2.8-0ubuntu0~17.10.1) ...\n",
            "update-alternatives: using /usr/lib/x86_64-linux-gnu/mesa/ld.so.conf to provide /etc/ld.so.conf.d/x86_64-linux-gnu_GL.conf (x86_64-linux-gnu_gl_conf) in auto mode\n",
            "Setting up libavahi-client3:amd64 (0.6.32-1ubuntu1.1) ...\n",
            "Setting up libcups2:amd64 (2.2.4-7ubuntu3.1) ...\n",
            "Setting up x11-utils (7.7+3build1) ...\n",
            "Setting up libpangocairo-1.0-0:amd64 (1.40.12-1) ...\n",
            "Setting up libpulse0:amd64 (1:10.0-2ubuntu3.1) ...\n",
            "Setting up libatk-wrapper-java (0.33.3-13) ...\n",
            "Setting up librsvg2-2:amd64 (2.40.18-1) ...\n",
            "Setting up librsvg2-common:amd64 (2.40.18-1) ...\n",
            "Setting up libatk-wrapper-java-jni:amd64 (0.33.3-13) ...\n",
            "Setting up openjdk-8-jre-headless:amd64 (8u171-b11-0ubuntu0.17.10.1) ...\n",
            "update-alternatives: using /usr/lib/jvm/java-8-openjdk-amd64/jre/bin/rmid to provide /usr/bin/rmid (rmid) in auto mode\n",
            "update-alternatives: using /usr/lib/jvm/java-8-openjdk-amd64/jre/bin/java to provide /usr/bin/java (java) in auto mode\n",
            "update-alternatives: using /usr/lib/jvm/java-8-openjdk-amd64/jre/bin/keytool to provide /usr/bin/keytool (keytool) in auto mode\n",
            "update-alternatives: using /usr/lib/jvm/java-8-openjdk-amd64/jre/bin/jjs to provide /usr/bin/jjs (jjs) in auto mode\n",
            "update-alternatives: using /usr/lib/jvm/java-8-openjdk-amd64/jre/bin/pack200 to provide /usr/bin/pack200 (pack200) in auto mode\n",
            "update-alternatives: using /usr/lib/jvm/java-8-openjdk-amd64/jre/bin/rmiregistry to provide /usr/bin/rmiregistry (rmiregistry) in auto mode\n",
            "update-alternatives: using /usr/lib/jvm/java-8-openjdk-amd64/jre/bin/unpack200 to provide /usr/bin/unpack200 (unpack200) in auto mode\n",
            "update-alternatives: using /usr/lib/jvm/java-8-openjdk-amd64/jre/bin/orbd to provide /usr/bin/orbd (orbd) in auto mode\n",
            "update-alternatives: using /usr/lib/jvm/java-8-openjdk-amd64/jre/bin/servertool to provide /usr/bin/servertool (servertool) in auto mode\n",
            "update-alternatives: using /usr/lib/jvm/java-8-openjdk-amd64/jre/bin/tnameserv to provide /usr/bin/tnameserv (tnameserv) in auto mode\n",
            "update-alternatives: using /usr/lib/jvm/java-8-openjdk-amd64/jre/lib/jexec to provide /usr/bin/jexec (jexec) in auto mode\n",
            "Setting up adwaita-icon-theme (3.26.0-0ubuntu2) ...\n",
            "update-alternatives: using /usr/share/icons/Adwaita/cursor.theme to provide /usr/share/icons/default/index.theme (x-cursor-theme) in auto mode\n",
            "Setting up libgtk2.0-0:amd64 (2.24.31-2ubuntu1) ...\n",
            "Setting up ca-certificates-java (20170930) ...\n",
            "Adding debian:Certum_Trusted_Network_CA_2.pem\n",
            "Adding debian:LuxTrust_Global_Root_2.pem\n",
            "Adding debian:DigiCert_Global_Root_CA.pem\n",
            "Adding debian:AffirmTrust_Commercial.pem\n",
            "Adding debian:SZAFIR_ROOT_CA2.pem\n",
            "Adding debian:CNNIC_ROOT.pem\n",
            "Adding debian:Starfield_Class_2_CA.pem\n",
            "Adding debian:Trustis_FPS_Root_CA.pem\n",
            "Adding debian:Go_Daddy_Root_Certificate_Authority_-_G2.pem\n",
            "Adding debian:AC_RAIZ_FNMT-RCM.pem\n",
            "Adding debian:Certplus_Class_2_Primary_CA.pem\n",
            "Adding debian:VeriSign_Universal_Root_Certification_Authority.pem\n",
            "Adding debian:GlobalSign_Root_CA_-_R3.pem\n",
            "Adding debian:EE_Certification_Centre_Root_CA.pem\n",
            "Adding debian:Cybertrust_Global_Root.pem\n",
            "Adding debian:Visa_eCommerce_Root.pem\n",
            "Adding debian:QuoVadis_Root_CA_3_G3.pem\n",
            "Adding debian:GeoTrust_Global_CA.pem\n",
            "Adding debian:Sonera_Class_2_Root_CA.pem\n",
            "Adding debian:EC-ACC.pem\n",
            "Adding debian:Certum_Trusted_Network_CA.pem\n",
            "Adding debian:Taiwan_GRCA.pem\n",
            "Adding debian:ACEDICOM_Root.pem\n",
            "Adding debian:Buypass_Class_3_Root_CA.pem\n",
            "Adding debian:Comodo_Secure_Services_root.pem\n",
            "Adding debian:DigiCert_Global_Root_G2.pem\n",
            "Adding debian:Hongkong_Post_Root_CA_1.pem\n",
            "Adding debian:Starfield_Root_Certificate_Authority_-_G2.pem\n",
            "Adding debian:GlobalSign_ECC_Root_CA_-_R5.pem\n",
            "Adding debian:TÜRKTRUST_Elektronik_Sertifika_Hizmet_Sağlayıcısı_H5.pem\n",
            "Adding debian:Amazon_Root_CA_4.pem\n",
            "Adding debian:TUBITAK_Kamu_SM_SSL_Kok_Sertifikasi_-_Surum_1.pem\n",
            "Adding debian:GeoTrust_Primary_Certification_Authority.pem\n",
            "Adding debian:COMODO_ECC_Certification_Authority.pem\n",
            "Adding debian:Security_Communication_Root_CA.pem\n",
            "Adding debian:Swisscom_Root_CA_1.pem\n",
            "Adding debian:T-TeleSec_GlobalRoot_Class_3.pem\n",
            "Adding debian:VeriSign_Class_3_Public_Primary_Certification_Authority_-_G5.pem\n",
            "Adding debian:Network_Solutions_Certificate_Authority.pem\n",
            "Adding debian:Hellenic_Academic_and_Research_Institutions_ECC_RootCA_2015.pem\n",
            "Adding debian:Buypass_Class_2_Root_CA.pem\n",
            "Adding debian:AddTrust_Qualified_Certificates_Root.pem\n",
            "Adding debian:USERTrust_RSA_Certification_Authority.pem\n",
            "Adding debian:GlobalSign_ECC_Root_CA_-_R4.pem\n",
            "Adding debian:QuoVadis_Root_CA_2_G3.pem\n",
            "Adding debian:TWCA_Global_Root_CA.pem\n",
            "Adding debian:GlobalSign_Root_CA.pem\n",
            "Adding debian:Security_Communication_RootCA2.pem\n",
            "Adding debian:Staat_der_Nederlanden_EV_Root_CA.pem\n",
            "Adding debian:Certum_Root_CA.pem\n",
            "Adding debian:Hellenic_Academic_and_Research_Institutions_RootCA_2011.pem\n",
            "Adding debian:DigiCert_Assured_ID_Root_G2.pem\n",
            "Adding debian:Amazon_Root_CA_3.pem\n",
            "Adding debian:XRamp_Global_CA_Root.pem\n",
            "Adding debian:Autoridad_de_Certificacion_Firmaprofesional_CIF_A62634068.pem\n",
            "Adding debian:GeoTrust_Universal_CA.pem\n",
            "Adding debian:AddTrust_Public_Services_Root.pem\n",
            "Adding debian:T-TeleSec_GlobalRoot_Class_2.pem\n",
            "Adding debian:DST_Root_CA_X3.pem\n",
            "Adding debian:ACCVRAIZ1.pem\n",
            "Adding debian:IdenTrust_Public_Sector_Root_CA_1.pem\n",
            "Adding debian:Actalis_Authentication_Root_CA.pem\n",
            "Adding debian:CFCA_EV_ROOT.pem\n",
            "Adding debian:USERTrust_ECC_Certification_Authority.pem\n",
            "Adding debian:Secure_Global_CA.pem\n",
            "Adding debian:thawte_Primary_Root_CA_-_G3.pem\n",
            "Adding debian:DigiCert_Assured_ID_Root_G3.pem\n",
            "Adding debian:Camerfirma_Chambers_of_Commerce_Root.pem\n",
            "Adding debian:AddTrust_Low-Value_Services_Root.pem\n",
            "Adding debian:Starfield_Services_Root_Certificate_Authority_-_G2.pem\n",
            "Adding debian:Certigna.pem\n",
            "Adding debian:GeoTrust_Universal_CA_2.pem\n",
            "Adding debian:Swisscom_Root_EV_CA_2.pem\n",
            "Adding debian:Entrust_Root_Certification_Authority_-_G2.pem\n",
            "Adding debian:GeoTrust_Primary_Certification_Authority_-_G2.pem\n",
            "Adding debian:SwissSign_Silver_CA_-_G2.pem\n",
            "Adding debian:TURKTRUST_Certificate_Services_Provider_Root_2007.pem\n",
            "Adding debian:Entrust_Root_Certification_Authority.pem\n",
            "Adding debian:Entrust_Root_Certification_Authority_-_EC1.pem\n",
            "Adding debian:Amazon_Root_CA_1.pem\n",
            "Adding debian:Certplus_Root_CA_G2.pem\n",
            "Adding debian:GlobalSign_Root_CA_-_R2.pem\n",
            "Adding debian:Staat_der_Nederlanden_Root_CA_-_G2.pem\n",
            "Adding debian:AddTrust_External_Root.pem\n",
            "Adding debian:GeoTrust_Primary_Certification_Authority_-_G3.pem\n",
            "Adding debian:Verisign_Class_3_Public_Primary_Certification_Authority_-_G3.pem\n",
            "Adding debian:OpenTrust_Root_CA_G1.pem\n",
            "Adding debian:ISRG_Root_X1.pem\n",
            "Adding debian:Comodo_AAA_Services_root.pem\n",
            "Adding debian:DigiCert_High_Assurance_EV_Root_CA.pem\n",
            "Adding debian:UTN_USERFirst_Hardware_Root_CA.pem\n",
            "Adding debian:Chambers_of_Commerce_Root_-_2008.pem\n",
            "Adding debian:D-TRUST_Root_Class_3_CA_2_EV_2009.pem\n",
            "Adding debian:Go_Daddy_Class_2_CA.pem\n",
            "Adding debian:China_Internet_Network_Information_Center_EV_Certificates_Root.pem\n",
            "Adding debian:Baltimore_CyberTrust_Root.pem\n",
            "Adding debian:SwissSign_Gold_CA_-_G2.pem\n",
            "Adding debian:Certplus_Root_CA_G1.pem\n",
            "Adding debian:SecureSign_RootCA11.pem\n",
            "Adding debian:Microsec_e-Szigno_Root_CA_2009.pem\n",
            "Adding debian:CA_Disig_Root_R1.pem\n",
            "Adding debian:Comodo_Trusted_Services_root.pem\n",
            "Adding debian:AffirmTrust_Networking.pem\n",
            "Adding debian:DigiCert_Trusted_Root_G4.pem\n",
            "Adding debian:GeoTrust_Global_CA_2.pem\n",
            "Adding debian:D-TRUST_Root_Class_3_CA_2_2009.pem\n",
            "Adding debian:PSCProcert.pem\n",
            "Adding debian:QuoVadis_Root_CA_3.pem\n",
            "Adding debian:thawte_Primary_Root_CA.pem\n",
            "Adding debian:Certinomis_-_Autorité_Racine.pem\n",
            "Adding debian:DST_ACES_CA_X6.pem\n",
            "Adding debian:DigiCert_Assured_ID_Root_CA.pem\n",
            "Adding debian:AffirmTrust_Premium_ECC.pem\n",
            "Adding debian:AffirmTrust_Premium.pem\n",
            "Adding debian:Certinomis_-_Root_CA.pem\n",
            "Adding debian:QuoVadis_Root_CA_2.pem\n",
            "Adding debian:CA_Disig_Root_R2.pem\n",
            "Adding debian:Deutsche_Telekom_Root_CA_2.pem\n",
            "Adding debian:IdenTrust_Commercial_Root_CA_1.pem\n",
            "Adding debian:Entrust.net_Premium_2048_Secure_Server_CA.pem\n",
            "Adding debian:Atos_TrustedRoot_2011.pem\n",
            "Adding debian:certSIGN_ROOT_CA.pem\n",
            "Adding debian:OISTE_WISeKey_Global_Root_GB_CA.pem\n",
            "Adding debian:QuoVadis_Root_CA.pem\n",
            "Adding debian:TÜBİTAK_UEKAE_Kök_Sertifika_Hizmet_Sağlayıcısı_-_Sürüm_3.pem\n",
            "Adding debian:Amazon_Root_CA_2.pem\n",
            "Adding debian:TeliaSonera_Root_CA_v1.pem\n",
            "Adding debian:Camerfirma_Global_Chambersign_Root.pem\n",
            "Adding debian:OpenTrust_Root_CA_G2.pem\n",
            "Adding debian:Izenpe.com.pem\n",
            "Adding debian:DigiCert_Global_Root_G3.pem\n",
            "Adding debian:TWCA_Root_Certification_Authority.pem\n",
            "Adding debian:VeriSign_Class_3_Public_Primary_Certification_Authority_-_G4.pem\n",
            "Adding debian:Staat_der_Nederlanden_Root_CA_-_G3.pem\n",
            "Adding debian:Swisscom_Root_CA_2.pem\n",
            "Adding debian:OISTE_WISeKey_Global_Root_GA_CA.pem\n",
            "Adding debian:Global_Chambersign_Root_-_2008.pem\n",
            "Adding debian:ePKI_Root_Certification_Authority.pem\n",
            "Adding debian:Security_Communication_EV_RootCA1.pem\n",
            "Adding debian:E-Tugra_Certification_Authority.pem\n",
            "Adding debian:SecureTrust_CA.pem\n",
            "Adding debian:QuoVadis_Root_CA_1_G3.pem\n",
            "Adding debian:NetLock_Arany_=Class_Gold=_Főtanúsítvány.pem\n",
            "Adding debian:COMODO_RSA_Certification_Authority.pem\n",
            "Adding debian:Hellenic_Academic_and_Research_Institutions_RootCA_2015.pem\n",
            "Adding debian:thawte_Primary_Root_CA_-_G2.pem\n",
            "Adding debian:COMODO_Certification_Authority.pem\n",
            "Adding debian:OpenTrust_Root_CA_G3.pem\n",
            "done.\n",
            "Setting up libgail18:amd64 (2.24.31-2ubuntu1) ...\n",
            "Setting up libgail-common:amd64 (2.24.31-2ubuntu1) ...\n",
            "Setting up humanity-icon-theme (0.6.13) ...\n",
            "Setting up openjdk-8-jre:amd64 (8u171-b11-0ubuntu0.17.10.1) ...\n",
            "update-alternatives: using /usr/lib/jvm/java-8-openjdk-amd64/jre/bin/policytool to provide /usr/bin/policytool (policytool) in auto mode\n",
            "Setting up default-jre-headless (2:1.8-59ubuntu1) ...\n",
            "Setting up libgtk2.0-bin (2.24.31-2ubuntu1) ...\n",
            "Setting up ubuntu-mono (16.10+17.10.20171115-0ubuntu1) ...\n",
            "Setting up default-jre (2:1.8-59ubuntu1) ...\n",
            "Processing triggers for libc-bin (2.26-0ubuntu2.1) ...\n",
            "Processing triggers for libgdk-pixbuf2.0-0:amd64 (2.36.11-1ubuntu0.1) ...\n",
            "Processing triggers for ca-certificates (20170717) ...\n",
            "Updating certificates in /etc/ssl/certs...\n",
            "0 added, 0 removed; done.\n",
            "Running hooks in /etc/ca-certificates/update.d...\n",
            "\n",
            "done.\n",
            "done.\n",
            "/bin/bash: java-version: command not found\n",
            "Collecting h2o\n",
            "\u001b[?25l  Downloading https://files.pythonhosted.org/packages/08/e7/b4663b9a9923da93abcb7ec7d20a82ceed14feb637912ab258006523b8fc/h2o-3.20.0.8.tar.gz (127.9MB)\n",
            "\u001b[K    100% |████████████████████████████████| 127.9MB 194kB/s \n",
            "\u001b[?25hRequirement already satisfied: requests in /usr/local/lib/python3.6/dist-packages (from h2o) (2.18.4)\n",
            "Collecting tabulate (from h2o)\n",
            "\u001b[?25l  Downloading https://files.pythonhosted.org/packages/12/c2/11d6845db5edf1295bc08b2f488cf5937806586afe42936c3f34c097ebdc/tabulate-0.8.2.tar.gz (45kB)\n",
            "\u001b[K    100% |████████████████████████████████| 51kB 11.5MB/s \n",
            "\u001b[?25hRequirement already satisfied: future in /usr/local/lib/python3.6/dist-packages (from h2o) (0.16.0)\n",
            "Collecting colorama>=0.3.8 (from h2o)\n",
            "  Downloading https://files.pythonhosted.org/packages/db/c8/7dcf9dbcb22429512708fe3a547f8b6101c0d02137acbd892505aee57adf/colorama-0.3.9-py2.py3-none-any.whl\n",
            "Requirement already satisfied: certifi>=2017.4.17 in /usr/local/lib/python3.6/dist-packages (from requests->h2o) (2018.8.24)\n",
            "Requirement already satisfied: urllib3<1.23,>=1.21.1 in /usr/local/lib/python3.6/dist-packages (from requests->h2o) (1.22)\n",
            "Requirement already satisfied: idna<2.7,>=2.5 in /usr/local/lib/python3.6/dist-packages (from requests->h2o) (2.6)\n",
            "Requirement already satisfied: chardet<3.1.0,>=3.0.2 in /usr/local/lib/python3.6/dist-packages (from requests->h2o) (3.0.4)\n",
            "Building wheels for collected packages: h2o, tabulate\n",
            "  Running setup.py bdist_wheel for h2o ... \u001b[?25l-\b \b\\\b \b|\b \b/\b \b-\b \b\\\b \bdone\n",
            "\u001b[?25h  Stored in directory: /root/.cache/pip/wheels/1d/6c/69/e23f960b9360e12ce4d97d2039bc4d516321fae382b3d477a6\n",
            "  Running setup.py bdist_wheel for tabulate ... \u001b[?25l-\b \bdone\n",
            "\u001b[?25h  Stored in directory: /root/.cache/pip/wheels/2a/85/33/2f6da85d5f10614cbe5a625eab3b3aebfdf43e7b857f25f829\n",
            "Successfully built h2o tabulate\n",
            "Installing collected packages: tabulate, colorama, h2o\n",
            "Successfully installed colorama-0.3.9 h2o-3.20.0.8 tabulate-0.8.2\n"
          ],
          "name": "stdout"
        }
      ]
    },
    {
      "metadata": {
        "id": "YPwPNnH3zbVG",
        "colab_type": "text"
      },
      "cell_type": "markdown",
      "source": [
        "# H2O AutoML Regression Demo\n",
        "\n",
        "This is a [Jupyter](https://jupyter.org/) Notebook. When you execute code within the notebook, the results appear beneath the code. To execute a code chunk, place your cursor on the cell and press *Shift+Enter*. \n",
        "\n",
        "### Start H2O\n",
        "\n",
        "Import the **h2o** Python module and `H2OAutoML` class and initialize a local H2O cluster."
      ]
    },
    {
      "metadata": {
        "id": "N44QJmrUzbVM",
        "colab_type": "code",
        "colab": {
          "base_uri": "https://localhost:8080/",
          "height": 510
        },
        "outputId": "8f02cbef-1efe-4a8f-837e-05526305b5ce"
      },
      "cell_type": "code",
      "source": [
        "import h2o\n",
        "from h2o.automl import H2OAutoML\n",
        "h2o.init()"
      ],
      "execution_count": 2,
      "outputs": [
        {
          "output_type": "stream",
          "text": [
            "Checking whether there is an H2O instance running at http://localhost:54321..... not found.\n",
            "Attempting to start a local H2O server...\n",
            "  Java Version: openjdk version \"1.8.0_171\"; OpenJDK Runtime Environment (build 1.8.0_171-8u171-b11-0ubuntu0.17.10.1-b11); OpenJDK 64-Bit Server VM (build 25.171-b11, mixed mode)\n",
            "  Starting server from /usr/local/lib/python3.6/dist-packages/h2o/backend/bin/h2o.jar\n",
            "  Ice root: /tmp/tmp_79z602w\n",
            "  JVM stdout: /tmp/tmp_79z602w/h2o_unknownUser_started_from_python.out\n",
            "  JVM stderr: /tmp/tmp_79z602w/h2o_unknownUser_started_from_python.err\n",
            "  Server is running at http://127.0.0.1:54321\n",
            "Connecting to H2O server at http://127.0.0.1:54321... successful.\n"
          ],
          "name": "stdout"
        },
        {
          "output_type": "display_data",
          "data": {
            "text/html": [
              "<div style=\"overflow:auto\"><table style=\"width:50%\"><tr><td>H2O cluster uptime:</td>\n",
              "<td>01 secs</td></tr>\n",
              "<tr><td>H2O cluster timezone:</td>\n",
              "<td>Etc/UTC</td></tr>\n",
              "<tr><td>H2O data parsing timezone:</td>\n",
              "<td>UTC</td></tr>\n",
              "<tr><td>H2O cluster version:</td>\n",
              "<td>3.20.0.8</td></tr>\n",
              "<tr><td>H2O cluster version age:</td>\n",
              "<td>5 days </td></tr>\n",
              "<tr><td>H2O cluster name:</td>\n",
              "<td>H2O_from_python_unknownUser_dje8wx</td></tr>\n",
              "<tr><td>H2O cluster total nodes:</td>\n",
              "<td>1</td></tr>\n",
              "<tr><td>H2O cluster free memory:</td>\n",
              "<td>2.827 Gb</td></tr>\n",
              "<tr><td>H2O cluster total cores:</td>\n",
              "<td>2</td></tr>\n",
              "<tr><td>H2O cluster allowed cores:</td>\n",
              "<td>2</td></tr>\n",
              "<tr><td>H2O cluster status:</td>\n",
              "<td>accepting new members, healthy</td></tr>\n",
              "<tr><td>H2O connection url:</td>\n",
              "<td>http://127.0.0.1:54321</td></tr>\n",
              "<tr><td>H2O connection proxy:</td>\n",
              "<td>None</td></tr>\n",
              "<tr><td>H2O internal security:</td>\n",
              "<td>False</td></tr>\n",
              "<tr><td>H2O API Extensions:</td>\n",
              "<td>XGBoost, Algos, AutoML, Core V3, Core V4</td></tr>\n",
              "<tr><td>Python version:</td>\n",
              "<td>3.6.3 final</td></tr></table></div>"
            ],
            "text/plain": [
              "--------------------------  ----------------------------------------\n",
              "H2O cluster uptime:         01 secs\n",
              "H2O cluster timezone:       Etc/UTC\n",
              "H2O data parsing timezone:  UTC\n",
              "H2O cluster version:        3.20.0.8\n",
              "H2O cluster version age:    5 days\n",
              "H2O cluster name:           H2O_from_python_unknownUser_dje8wx\n",
              "H2O cluster total nodes:    1\n",
              "H2O cluster free memory:    2.827 Gb\n",
              "H2O cluster total cores:    2\n",
              "H2O cluster allowed cores:  2\n",
              "H2O cluster status:         accepting new members, healthy\n",
              "H2O connection url:         http://127.0.0.1:54321\n",
              "H2O connection proxy:\n",
              "H2O internal security:      False\n",
              "H2O API Extensions:         XGBoost, Algos, AutoML, Core V3, Core V4\n",
              "Python version:             3.6.3 final\n",
              "--------------------------  ----------------------------------------"
            ]
          },
          "metadata": {
            "tags": []
          }
        }
      ]
    },
    {
      "metadata": {
        "id": "71FtyeQ5zbVq",
        "colab_type": "text"
      },
      "cell_type": "markdown",
      "source": [
        "### Load Data\n",
        "\n",
        "For the AutoML regression demo, we use the [Combined Cycle Power Plant](http://archive.ics.uci.edu/ml/datasets/Combined+Cycle+Power+Plant) dataset.  The goal here is to predict the energy output (in megawatts), given the temperature, ambient pressure, relative humidity and exhaust vacuum values.  In this demo, you will use H2O's AutoML to outperform the [state of the art results](https://www.sciencedirect.com/science/article/pii/S0142061514000908) on this task."
      ]
    },
    {
      "metadata": {
        "id": "YPmMN7OWzbVu",
        "colab_type": "code",
        "colab": {
          "base_uri": "https://localhost:8080/",
          "height": 34
        },
        "outputId": "d8dd9689-15d3-47b9-f147-5c6e0826cf5d"
      },
      "cell_type": "code",
      "source": [
        "data_path = \"https://github.com/h2oai/h2o-tutorials/raw/master/h2o-world-2017/automl/data/powerplant_output.csv\"\n",
        "\n",
        "\n",
        "# Load data into H2O\n",
        "df = h2o.import_file(data_path)"
      ],
      "execution_count": 4,
      "outputs": [
        {
          "output_type": "stream",
          "text": [
            "Parse progress: |█████████████████████████████████████████████████████████| 100%\n"
          ],
          "name": "stdout"
        }
      ]
    },
    {
      "metadata": {
        "id": "d2m93JyIzbV-",
        "colab_type": "text"
      },
      "cell_type": "markdown",
      "source": [
        "Let's take a look at the data."
      ]
    },
    {
      "metadata": {
        "id": "kygthU0zzbWC",
        "colab_type": "code",
        "colab": {
          "base_uri": "https://localhost:8080/",
          "height": 446
        },
        "outputId": "1e67017d-da35-47a2-b914-e2c0056bf3ea"
      },
      "cell_type": "code",
      "source": [
        "df.describe()"
      ],
      "execution_count": 5,
      "outputs": [
        {
          "output_type": "stream",
          "text": [
            "Rows:9568\n",
            "Cols:5\n",
            "\n",
            "\n"
          ],
          "name": "stdout"
        },
        {
          "output_type": "display_data",
          "data": {
            "text/html": [
              "<table>\n",
              "<thead>\n",
              "<tr><th>       </th><th>TemperatureCelcius  </th><th>ExhaustVacuumHg   </th><th>AmbientPressureMillibar  </th><th>RelativeHumidity  </th><th>HourlyEnergyOutputMW  </th></tr>\n",
              "</thead>\n",
              "<tbody>\n",
              "<tr><td>type   </td><td>real                </td><td>real              </td><td>real                     </td><td>real              </td><td>real                  </td></tr>\n",
              "<tr><td>mins   </td><td>1.81                </td><td>25.36             </td><td>992.89                   </td><td>25.56             </td><td>420.26                </td></tr>\n",
              "<tr><td>mean   </td><td>19.651231187290957  </td><td>54.3058037207358  </td><td>1013.2590781772578       </td><td>73.30897784280936 </td><td>454.36500940635455    </td></tr>\n",
              "<tr><td>maxs   </td><td>37.11               </td><td>81.56             </td><td>1033.3                   </td><td>100.16            </td><td>495.76                </td></tr>\n",
              "<tr><td>sigma  </td><td>7.452473229611082   </td><td>12.707892998326807</td><td>5.93878370581162         </td><td>14.600268756728957</td><td>17.066994999803423    </td></tr>\n",
              "<tr><td>zeros  </td><td>0                   </td><td>0                 </td><td>0                        </td><td>0                 </td><td>0                     </td></tr>\n",
              "<tr><td>missing</td><td>0                   </td><td>0                 </td><td>0                        </td><td>0                 </td><td>0                     </td></tr>\n",
              "<tr><td>0      </td><td>14.96               </td><td>41.76             </td><td>1024.07                  </td><td>73.17             </td><td>463.26                </td></tr>\n",
              "<tr><td>1      </td><td>25.18               </td><td>62.96             </td><td>1020.04                  </td><td>59.08             </td><td>444.37                </td></tr>\n",
              "<tr><td>2      </td><td>5.11                </td><td>39.4              </td><td>1012.16                  </td><td>92.14             </td><td>488.56                </td></tr>\n",
              "<tr><td>3      </td><td>20.86               </td><td>57.32             </td><td>1010.24                  </td><td>76.64             </td><td>446.48                </td></tr>\n",
              "<tr><td>4      </td><td>10.82               </td><td>37.5              </td><td>1009.23                  </td><td>96.62             </td><td>473.9                 </td></tr>\n",
              "<tr><td>5      </td><td>26.27               </td><td>59.44             </td><td>1012.23                  </td><td>58.77             </td><td>443.67                </td></tr>\n",
              "<tr><td>6      </td><td>15.89               </td><td>43.96             </td><td>1014.02                  </td><td>75.24             </td><td>467.35                </td></tr>\n",
              "<tr><td>7      </td><td>9.48                </td><td>44.71             </td><td>1019.12                  </td><td>66.43             </td><td>478.42                </td></tr>\n",
              "<tr><td>8      </td><td>14.64               </td><td>45.0              </td><td>1021.78                  </td><td>41.25             </td><td>475.98                </td></tr>\n",
              "<tr><td>9      </td><td>11.74               </td><td>43.56             </td><td>1015.14                  </td><td>70.72             </td><td>477.5                 </td></tr>\n",
              "</tbody>\n",
              "</table>"
            ]
          },
          "metadata": {
            "tags": []
          }
        }
      ]
    },
    {
      "metadata": {
        "id": "VehqWuNGzbWR",
        "colab_type": "text"
      },
      "cell_type": "markdown",
      "source": [
        "Next, let's identify the response column and save the column name as `y`.  In this dataset, we will use all columns except the response as predictors, so we can skip setting the `x` argument explicitly."
      ]
    },
    {
      "metadata": {
        "id": "zqoaUy5ozbWV",
        "colab_type": "code",
        "colab": {}
      },
      "cell_type": "code",
      "source": [
        "y = \"HourlyEnergyOutputMW\""
      ],
      "execution_count": 0,
      "outputs": []
    },
    {
      "metadata": {
        "id": "ivXqOV6tzbWg",
        "colab_type": "text"
      },
      "cell_type": "markdown",
      "source": [
        "Lastly, let's split the data into two frames, a `train` (80%) and a `test` frame (20%).  The `test` frame will be used to score the leaderboard and to demonstrate how to generate predictions using an AutoML leader model."
      ]
    },
    {
      "metadata": {
        "id": "NgiLR377zbWk",
        "colab_type": "code",
        "colab": {}
      },
      "cell_type": "code",
      "source": [
        "splits = df.split_frame(ratios = [0.8], seed = 1)\n",
        "train = splits[0]\n",
        "test = splits[1]"
      ],
      "execution_count": 0,
      "outputs": []
    },
    {
      "metadata": {
        "id": "l8VsG3cqzbWv",
        "colab_type": "text"
      },
      "cell_type": "markdown",
      "source": [
        "## Run AutoML \n",
        "\n",
        "Run AutoML, stopping after 60 seconds.  The `max_runtime_secs` argument provides a way to limit the AutoML run by time.  When using a time-limited stopping criterion, the number of models train will vary between runs.  If different hardware is used or even if the same machine is used but the available compute resources on that machine are not the same between runs, then AutoML may be able to train more models on one run vs another. \n",
        "\n",
        "The `test` frame is passed explicitly to the `leaderboard_frame` argument here, which means that instead of using cross-validated metrics, we use test set metrics for generating the leaderboard."
      ]
    },
    {
      "metadata": {
        "id": "lT4PryDhzbW2",
        "colab_type": "code",
        "colab": {
          "base_uri": "https://localhost:8080/",
          "height": 34
        },
        "outputId": "85ba071a-1b29-40c8-eab6-c299fc27cc58"
      },
      "cell_type": "code",
      "source": [
        "aml = H2OAutoML(max_runtime_secs = 60, seed = 1, project_name = \"powerplant_lb_frame\")\n",
        "aml.train(y = y, training_frame = train, leaderboard_frame = test)"
      ],
      "execution_count": 8,
      "outputs": [
        {
          "output_type": "stream",
          "text": [
            "AutoML progress: |████████████████████████████████████████████████████████| 100%\n"
          ],
          "name": "stdout"
        }
      ]
    },
    {
      "metadata": {
        "id": "pUz4r3IHzbXJ",
        "colab_type": "text"
      },
      "cell_type": "markdown",
      "source": [
        "*Note: If you see the following error, it means that you need to install the pandas module.*\n",
        "```\n",
        "H2OTypeError: Argument `python_obj` should be a None | list | tuple | dict | numpy.ndarray | pandas.DataFrame | scipy.sparse.issparse, got H2OTwoDimTable \n",
        "``` "
      ]
    },
    {
      "metadata": {
        "id": "M7ifGpBMzbXQ",
        "colab_type": "text"
      },
      "cell_type": "markdown",
      "source": [
        "For demonstration purposes, we will also execute a second AutoML run, this time providing the original, full dataset, `df` (without passing a `leaderboard_frame`).  This is a more efficient use of our data since we can use 100% of the data for training, rather than 80% like we did above.  This time our leaderboard will use cross-validated metrics.\n",
        "\n",
        "*Note: Using an explicit `leaderboard_frame` for scoring may be useful in some cases, which is why the option is available.*  "
      ]
    },
    {
      "metadata": {
        "id": "WPoIxm-vzbXV",
        "colab_type": "code",
        "colab": {
          "base_uri": "https://localhost:8080/",
          "height": 34
        },
        "outputId": "9b41edd8-9ab9-4687-bcce-cb0a17922951"
      },
      "cell_type": "code",
      "source": [
        "aml2 = H2OAutoML(max_runtime_secs = 60, seed = 1, project_name = \"powerplant_full_data\")\n",
        "aml2.train(y = y, training_frame = df)"
      ],
      "execution_count": 9,
      "outputs": [
        {
          "output_type": "stream",
          "text": [
            "AutoML progress: |████████████████████████████████████████████████████████| 100%\n"
          ],
          "name": "stdout"
        }
      ]
    },
    {
      "metadata": {
        "id": "sM-nx9g_zbXm",
        "colab_type": "text"
      },
      "cell_type": "markdown",
      "source": [
        "*Note: We specify a `project_name` here for clarity.*"
      ]
    },
    {
      "metadata": {
        "id": "yXrirUjtzbXp",
        "colab_type": "text"
      },
      "cell_type": "markdown",
      "source": [
        "## Leaderboard\n",
        "\n",
        "Next, we will view the AutoML Leaderboard.  Since we specified a `leaderboard_frame` in the `H2OAutoML.train()` method for scoring and ranking the models, the AutoML leaderboard uses the performance on this data to rank the models.\n",
        "\n",
        "After viewing the `\"powerplant_lb_frame\"` AutoML project leaderboard, we compare that to the leaderboard for the `\"powerplant_full_data\"` project.  We can see that the results are better when the full dataset is used for training.  \n",
        "\n",
        "A default performance metric for each machine learning task (binary classification, multiclass classification, regression) is specified internally and the leaderboard will be sorted by that metric.  In the case of regression, the default ranking metric is mean residual deviance.  In the future, the user will be able to specify any of the H2O metrics so that different metrics can be used to generate rankings on the leaderboard."
      ]
    },
    {
      "metadata": {
        "id": "W2L6KnAEzbXs",
        "colab_type": "code",
        "colab": {
          "base_uri": "https://localhost:8080/",
          "height": 238
        },
        "outputId": "c0b8cb1f-a8fc-4418-a14d-bd7e0d14110f"
      },
      "cell_type": "code",
      "source": [
        "aml.leaderboard.head()"
      ],
      "execution_count": 10,
      "outputs": [
        {
          "output_type": "display_data",
          "data": {
            "text/html": [
              "<table>\n",
              "<thead>\n",
              "<tr><th>model_id                                             </th><th style=\"text-align: right;\">  mean_residual_deviance</th><th style=\"text-align: right;\">   rmse</th><th style=\"text-align: right;\">    mse</th><th style=\"text-align: right;\">    mae</th><th style=\"text-align: right;\">     rmsle</th></tr>\n",
              "</thead>\n",
              "<tbody>\n",
              "<tr><td>GBM_grid_0_AutoML_20180927_022342_model_3            </td><td style=\"text-align: right;\">                 11.6763</td><td style=\"text-align: right;\">3.41706</td><td style=\"text-align: right;\">11.6763</td><td style=\"text-align: right;\">2.42422</td><td style=\"text-align: right;\">0.00751043</td></tr>\n",
              "<tr><td>StackedEnsemble_AllModels_0_AutoML_20180927_022342   </td><td style=\"text-align: right;\">                 11.7943</td><td style=\"text-align: right;\">3.43428</td><td style=\"text-align: right;\">11.7943</td><td style=\"text-align: right;\">2.43361</td><td style=\"text-align: right;\">0.00755406</td></tr>\n",
              "<tr><td>StackedEnsemble_BestOfFamily_0_AutoML_20180927_022342</td><td style=\"text-align: right;\">                 11.8503</td><td style=\"text-align: right;\">3.44243</td><td style=\"text-align: right;\">11.8503</td><td style=\"text-align: right;\">2.43643</td><td style=\"text-align: right;\">0.00757504</td></tr>\n",
              "<tr><td>GBM_grid_0_AutoML_20180927_022342_model_2            </td><td style=\"text-align: right;\">                 11.855 </td><td style=\"text-align: right;\">3.44311</td><td style=\"text-align: right;\">11.855 </td><td style=\"text-align: right;\">2.43869</td><td style=\"text-align: right;\">0.00757132</td></tr>\n",
              "<tr><td>GBM_grid_0_AutoML_20180927_022342_model_1            </td><td style=\"text-align: right;\">                 12.2221</td><td style=\"text-align: right;\">3.49601</td><td style=\"text-align: right;\">12.2221</td><td style=\"text-align: right;\">2.50889</td><td style=\"text-align: right;\">0.00768751</td></tr>\n",
              "<tr><td>GBM_grid_0_AutoML_20180927_022342_model_0            </td><td style=\"text-align: right;\">                 12.6301</td><td style=\"text-align: right;\">3.55388</td><td style=\"text-align: right;\">12.6301</td><td style=\"text-align: right;\">2.53241</td><td style=\"text-align: right;\">0.00780808</td></tr>\n",
              "<tr><td>DRF_0_AutoML_20180927_022342                         </td><td style=\"text-align: right;\">                 13.5288</td><td style=\"text-align: right;\">3.67816</td><td style=\"text-align: right;\">13.5288</td><td style=\"text-align: right;\">2.62764</td><td style=\"text-align: right;\">0.00810127</td></tr>\n",
              "<tr><td>XRT_0_AutoML_20180927_022342                         </td><td style=\"text-align: right;\">                 13.6271</td><td style=\"text-align: right;\">3.69149</td><td style=\"text-align: right;\">13.6271</td><td style=\"text-align: right;\">2.62194</td><td style=\"text-align: right;\">0.00812536</td></tr>\n",
              "<tr><td>GBM_grid_0_AutoML_20180927_022342_model_4            </td><td style=\"text-align: right;\">                 14.016 </td><td style=\"text-align: right;\">3.74379</td><td style=\"text-align: right;\">14.016 </td><td style=\"text-align: right;\">2.72194</td><td style=\"text-align: right;\">0.00822983</td></tr>\n",
              "<tr><td>DeepLearning_0_AutoML_20180927_022342                </td><td style=\"text-align: right;\">                 20.6733</td><td style=\"text-align: right;\">4.54679</td><td style=\"text-align: right;\">20.6733</td><td style=\"text-align: right;\">3.46012</td><td style=\"text-align: right;\">0.0100312 </td></tr>\n",
              "</tbody>\n",
              "</table>"
            ]
          },
          "metadata": {
            "tags": []
          }
        },
        {
          "output_type": "execute_result",
          "data": {
            "text/plain": [
              ""
            ]
          },
          "metadata": {
            "tags": []
          },
          "execution_count": 10
        }
      ]
    },
    {
      "metadata": {
        "id": "VVKfUWE4zbX9",
        "colab_type": "text"
      },
      "cell_type": "markdown",
      "source": [
        "Now we will view a snapshot of the top models.  Here we should see the two Stacked Ensembles at or near the top of the leaderboard.  Stacked Ensembles can almost always outperform a single model."
      ]
    },
    {
      "metadata": {
        "id": "lusYnHS0zbYA",
        "colab_type": "code",
        "colab": {
          "base_uri": "https://localhost:8080/",
          "height": 238
        },
        "outputId": "82350dec-1b3c-4c36-d107-06577cad41c4"
      },
      "cell_type": "code",
      "source": [
        "aml2.leaderboard.head()"
      ],
      "execution_count": 11,
      "outputs": [
        {
          "output_type": "display_data",
          "data": {
            "text/html": [
              "<table>\n",
              "<thead>\n",
              "<tr><th>model_id                                             </th><th style=\"text-align: right;\">  mean_residual_deviance</th><th style=\"text-align: right;\">   rmse</th><th style=\"text-align: right;\">    mse</th><th style=\"text-align: right;\">    mae</th><th style=\"text-align: right;\">     rmsle</th></tr>\n",
              "</thead>\n",
              "<tbody>\n",
              "<tr><td>StackedEnsemble_AllModels_0_AutoML_20180927_022507   </td><td style=\"text-align: right;\">                 10.6686</td><td style=\"text-align: right;\">3.26628</td><td style=\"text-align: right;\">10.6686</td><td style=\"text-align: right;\">2.36449</td><td style=\"text-align: right;\">0.00717045</td></tr>\n",
              "<tr><td>StackedEnsemble_BestOfFamily_0_AutoML_20180927_022507</td><td style=\"text-align: right;\">                 10.8772</td><td style=\"text-align: right;\">3.29806</td><td style=\"text-align: right;\">10.8772</td><td style=\"text-align: right;\">2.38175</td><td style=\"text-align: right;\">0.00724116</td></tr>\n",
              "<tr><td>GBM_grid_0_AutoML_20180927_022507_model_3            </td><td style=\"text-align: right;\">                 10.9183</td><td style=\"text-align: right;\">3.30429</td><td style=\"text-align: right;\">10.9183</td><td style=\"text-align: right;\">2.38846</td><td style=\"text-align: right;\">0.00725076</td></tr>\n",
              "<tr><td>GBM_grid_0_AutoML_20180927_022507_model_2            </td><td style=\"text-align: right;\">                 10.9535</td><td style=\"text-align: right;\">3.3096 </td><td style=\"text-align: right;\">10.9535</td><td style=\"text-align: right;\">2.4085 </td><td style=\"text-align: right;\">0.00726313</td></tr>\n",
              "<tr><td>GBM_grid_0_AutoML_20180927_022507_model_0            </td><td style=\"text-align: right;\">                 11.0288</td><td style=\"text-align: right;\">3.32096</td><td style=\"text-align: right;\">11.0288</td><td style=\"text-align: right;\">2.42324</td><td style=\"text-align: right;\">0.00728685</td></tr>\n",
              "<tr><td>GBM_grid_0_AutoML_20180927_022507_model_1            </td><td style=\"text-align: right;\">                 11.3415</td><td style=\"text-align: right;\">3.36772</td><td style=\"text-align: right;\">11.3415</td><td style=\"text-align: right;\">2.46744</td><td style=\"text-align: right;\">0.00739167</td></tr>\n",
              "<tr><td>DRF_0_AutoML_20180927_022507                         </td><td style=\"text-align: right;\">                 12.3201</td><td style=\"text-align: right;\">3.51   </td><td style=\"text-align: right;\">12.3201</td><td style=\"text-align: right;\">2.56916</td><td style=\"text-align: right;\">0.00770918</td></tr>\n",
              "<tr><td>XRT_0_AutoML_20180927_022507                         </td><td style=\"text-align: right;\">                 12.3938</td><td style=\"text-align: right;\">3.52049</td><td style=\"text-align: right;\">12.3938</td><td style=\"text-align: right;\">2.5644 </td><td style=\"text-align: right;\">0.00772779</td></tr>\n",
              "<tr><td>GBM_grid_0_AutoML_20180927_022507_model_4            </td><td style=\"text-align: right;\">                 12.9893</td><td style=\"text-align: right;\">3.60407</td><td style=\"text-align: right;\">12.9893</td><td style=\"text-align: right;\">2.67657</td><td style=\"text-align: right;\">0.00790625</td></tr>\n",
              "<tr><td>GLM_grid_0_AutoML_20180927_022507_model_0            </td><td style=\"text-align: right;\">                 20.8802</td><td style=\"text-align: right;\">4.56949</td><td style=\"text-align: right;\">20.8802</td><td style=\"text-align: right;\">3.64814</td><td style=\"text-align: right;\">0.0100502 </td></tr>\n",
              "</tbody>\n",
              "</table>"
            ]
          },
          "metadata": {
            "tags": []
          }
        },
        {
          "output_type": "execute_result",
          "data": {
            "text/plain": [
              ""
            ]
          },
          "metadata": {
            "tags": []
          },
          "execution_count": 11
        }
      ]
    },
    {
      "metadata": {
        "id": "h9KiRigGzbYO",
        "colab_type": "text"
      },
      "cell_type": "markdown",
      "source": [
        "This dataset comes from the [UCI Machine Learning Repository](http://archive.ics.uci.edu/ml/datasets/Combined+Cycle+Power+Plant) of machine learning datasets.  The data was used in a [publication](https://www.sciencedirect.com/science/article/pii/S0142061514000908) in the *International Journal of Electrical Power & Energy Systems* in 2014.  In the paper, the authors achieved a mean absolute error (MAE) of 2.818 and a Root Mean-Squared Error (RMSE) of 3.787 on their best model.  So, with H2O's AutoML, we've already beaten the state-of-the-art in just 60 seconds of compute time!"
      ]
    },
    {
      "metadata": {
        "id": "TVl0FiIgzbYQ",
        "colab_type": "text"
      },
      "cell_type": "markdown",
      "source": [
        "## Predict Using Leader Model\n",
        "\n",
        "If you need to generate predictions on a test set, you can make predictions on the `\"H2OAutoML\"` object directly, or on the leader model object."
      ]
    },
    {
      "metadata": {
        "id": "e26WvEtlzbYU",
        "colab_type": "code",
        "colab": {
          "base_uri": "https://localhost:8080/",
          "height": 255
        },
        "outputId": "27ae7f39-e4a0-41d9-ada4-ca32d765ad1a"
      },
      "cell_type": "code",
      "source": [
        "pred = aml.predict(test)\n",
        "pred.head()"
      ],
      "execution_count": 12,
      "outputs": [
        {
          "output_type": "stream",
          "text": [
            "gbm prediction progress: |████████████████████████████████████████████████| 100%\n"
          ],
          "name": "stdout"
        },
        {
          "output_type": "display_data",
          "data": {
            "text/html": [
              "<table>\n",
              "<thead>\n",
              "<tr><th style=\"text-align: right;\">  predict</th></tr>\n",
              "</thead>\n",
              "<tbody>\n",
              "<tr><td style=\"text-align: right;\">  485.036</td></tr>\n",
              "<tr><td style=\"text-align: right;\">  473.125</td></tr>\n",
              "<tr><td style=\"text-align: right;\">  466.435</td></tr>\n",
              "<tr><td style=\"text-align: right;\">  452.65 </td></tr>\n",
              "<tr><td style=\"text-align: right;\">  446.836</td></tr>\n",
              "<tr><td style=\"text-align: right;\">  469.328</td></tr>\n",
              "<tr><td style=\"text-align: right;\">  443.004</td></tr>\n",
              "<tr><td style=\"text-align: right;\">  462.974</td></tr>\n",
              "<tr><td style=\"text-align: right;\">  442.507</td></tr>\n",
              "<tr><td style=\"text-align: right;\">  434.325</td></tr>\n",
              "</tbody>\n",
              "</table>"
            ]
          },
          "metadata": {
            "tags": []
          }
        },
        {
          "output_type": "execute_result",
          "data": {
            "text/plain": [
              ""
            ]
          },
          "metadata": {
            "tags": []
          },
          "execution_count": 12
        }
      ]
    },
    {
      "metadata": {
        "id": "WUOJMAMIzbYh",
        "colab_type": "text"
      },
      "cell_type": "markdown",
      "source": [
        "If needed, the standard `model_performance()` method can be applied to the AutoML leader model and a test set to generate an H2O model performance object."
      ]
    },
    {
      "metadata": {
        "id": "KGA2CZgXzbYk",
        "colab_type": "code",
        "colab": {
          "base_uri": "https://localhost:8080/",
          "height": 168
        },
        "outputId": "eb751c36-9307-494f-b263-00efc8e237af"
      },
      "cell_type": "code",
      "source": [
        "perf = aml.leader.model_performance(test)\n",
        "perf"
      ],
      "execution_count": 13,
      "outputs": [
        {
          "output_type": "stream",
          "text": [
            "\n",
            "ModelMetricsRegression: gbm\n",
            "** Reported on test data. **\n",
            "\n",
            "MSE: 11.676303771453584\n",
            "RMSE: 3.417060691801301\n",
            "MAE: 2.424221360046135\n",
            "RMSLE: 0.007510425406461126\n",
            "Mean Residual Deviance: 11.676303771453584\n"
          ],
          "name": "stdout"
        },
        {
          "output_type": "execute_result",
          "data": {
            "text/plain": [
              ""
            ]
          },
          "metadata": {
            "tags": []
          },
          "execution_count": 13
        }
      ]
    }
  ]
}