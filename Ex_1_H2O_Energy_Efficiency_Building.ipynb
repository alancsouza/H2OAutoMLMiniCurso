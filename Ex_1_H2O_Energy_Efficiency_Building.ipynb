{
  "nbformat": 4,
  "nbformat_minor": 0,
  "metadata": {
    "colab": {
      "name": "H2O_Energy_Efficiency Building.ipynb",
      "version": "0.3.2",
      "provenance": [],
      "collapsed_sections": []
    },
    "kernelspec": {
      "name": "python3",
      "display_name": "Python 3"
    },
    "accelerator": "GPU"
  },
  "cells": [
    {
      "metadata": {
        "id": "L5oaB8BX7BzJ",
        "colab_type": "code",
        "colab": {
          "base_uri": "https://localhost:8080/",
          "height": 322
        },
        "outputId": "b3af73df-5748-4785-98f5-8d3ce0d8cc62"
      },
      "cell_type": "code",
      "source": [
        "! apt-get install default-jre\n",
        "! java -version\n",
        "! pip install h2o"
      ],
      "execution_count": 9,
      "outputs": [
        {
          "output_type": "stream",
          "text": [
            "Reading package lists... Done\n",
            "Building dependency tree       \n",
            "Reading state information... Done\n",
            "default-jre is already the newest version (2:1.8-59ubuntu1).\n",
            "0 upgraded, 0 newly installed, 0 to remove and 0 not upgraded.\n",
            "openjdk version \"1.8.0_171\"\n",
            "OpenJDK Runtime Environment (build 1.8.0_171-8u171-b11-0ubuntu0.17.10.1-b11)\n",
            "OpenJDK 64-Bit Server VM (build 25.171-b11, mixed mode)\n",
            "Requirement already satisfied: h2o in /usr/local/lib/python3.6/dist-packages (3.20.0.8)\n",
            "Requirement already satisfied: colorama>=0.3.8 in /usr/local/lib/python3.6/dist-packages (from h2o) (0.3.9)\n",
            "Requirement already satisfied: future in /usr/local/lib/python3.6/dist-packages (from h2o) (0.16.0)\n",
            "Requirement already satisfied: requests in /usr/local/lib/python3.6/dist-packages (from h2o) (2.18.4)\n",
            "Requirement already satisfied: tabulate in /usr/local/lib/python3.6/dist-packages (from h2o) (0.8.2)\n",
            "Requirement already satisfied: certifi>=2017.4.17 in /usr/local/lib/python3.6/dist-packages (from requests->h2o) (2018.8.24)\n",
            "Requirement already satisfied: idna<2.7,>=2.5 in /usr/local/lib/python3.6/dist-packages (from requests->h2o) (2.6)\n",
            "Requirement already satisfied: urllib3<1.23,>=1.21.1 in /usr/local/lib/python3.6/dist-packages (from requests->h2o) (1.22)\n",
            "Requirement already satisfied: chardet<3.1.0,>=3.0.2 in /usr/local/lib/python3.6/dist-packages (from requests->h2o) (3.0.4)\n"
          ],
          "name": "stdout"
        }
      ]
    },
    {
      "metadata": {
        "id": "4ea3qtvB7gI2",
        "colab_type": "code",
        "colab": {
          "base_uri": "https://localhost:8080/",
          "height": 355
        },
        "outputId": "cb2acb74-1e93-44f3-fe63-696c84512ce0"
      },
      "cell_type": "code",
      "source": [
        "import h2o\n",
        "from h2o.automl import H2OAutoML\n",
        "import pandas as pd\n",
        "h2o.init()\n",
        "\n",
        "from google.colab import files\n",
        "\n",
        "from h2o.estimators import H2ORandomForestEstimator, H2OGradientBoostingEstimator\n",
        "from h2o.estimators.glm import H2OGeneralizedLinearEstimator\n",
        "from h2o.estimators.deeplearning import H2ODeepLearningEstimator\n",
        "\n"
      ],
      "execution_count": 37,
      "outputs": [
        {
          "output_type": "stream",
          "text": [
            "Checking whether there is an H2O instance running at http://localhost:54321. connected.\n"
          ],
          "name": "stdout"
        },
        {
          "output_type": "display_data",
          "data": {
            "text/html": [
              "<div style=\"overflow:auto\"><table style=\"width:50%\"><tr><td>H2O cluster uptime:</td>\n",
              "<td>4 hours 43 mins</td></tr>\n",
              "<tr><td>H2O cluster timezone:</td>\n",
              "<td>Etc/UTC</td></tr>\n",
              "<tr><td>H2O data parsing timezone:</td>\n",
              "<td>UTC</td></tr>\n",
              "<tr><td>H2O cluster version:</td>\n",
              "<td>3.20.0.8</td></tr>\n",
              "<tr><td>H2O cluster version age:</td>\n",
              "<td>2 days </td></tr>\n",
              "<tr><td>H2O cluster name:</td>\n",
              "<td>H2O_from_python_unknownUser_d1p26n</td></tr>\n",
              "<tr><td>H2O cluster total nodes:</td>\n",
              "<td>1</td></tr>\n",
              "<tr><td>H2O cluster free memory:</td>\n",
              "<td>2.400 Gb</td></tr>\n",
              "<tr><td>H2O cluster total cores:</td>\n",
              "<td>2</td></tr>\n",
              "<tr><td>H2O cluster allowed cores:</td>\n",
              "<td>2</td></tr>\n",
              "<tr><td>H2O cluster status:</td>\n",
              "<td>locked, healthy</td></tr>\n",
              "<tr><td>H2O connection url:</td>\n",
              "<td>http://localhost:54321</td></tr>\n",
              "<tr><td>H2O connection proxy:</td>\n",
              "<td>None</td></tr>\n",
              "<tr><td>H2O internal security:</td>\n",
              "<td>False</td></tr>\n",
              "<tr><td>H2O API Extensions:</td>\n",
              "<td>XGBoost, Algos, AutoML, Core V3, Core V4</td></tr>\n",
              "<tr><td>Python version:</td>\n",
              "<td>3.6.3 final</td></tr></table></div>"
            ],
            "text/plain": [
              "--------------------------  ----------------------------------------\n",
              "H2O cluster uptime:         4 hours 43 mins\n",
              "H2O cluster timezone:       Etc/UTC\n",
              "H2O data parsing timezone:  UTC\n",
              "H2O cluster version:        3.20.0.8\n",
              "H2O cluster version age:    2 days\n",
              "H2O cluster name:           H2O_from_python_unknownUser_d1p26n\n",
              "H2O cluster total nodes:    1\n",
              "H2O cluster free memory:    2.400 Gb\n",
              "H2O cluster total cores:    2\n",
              "H2O cluster allowed cores:  2\n",
              "H2O cluster status:         locked, healthy\n",
              "H2O connection url:         http://localhost:54321\n",
              "H2O connection proxy:\n",
              "H2O internal security:      False\n",
              "H2O API Extensions:         XGBoost, Algos, AutoML, Core V3, Core V4\n",
              "Python version:             3.6.3 final\n",
              "--------------------------  ----------------------------------------"
            ]
          },
          "metadata": {
            "tags": []
          }
        }
      ]
    },
    {
      "metadata": {
        "id": "MG3zOfGL8Dyo",
        "colab_type": "text"
      },
      "cell_type": "markdown",
      "source": [
        "## Descrição da Base de dados:\n",
        "\n",
        "Problema de regressão. Traz informações do apartamento e informa a carga necessária para aquecimento ou refrigeração:\n",
        "\n",
        "### Atributos:\n",
        "\n",
        "* X1: Relative Compactness\n",
        "* X2: Surface Area\n",
        "* X3: Wall Area\n",
        "* X4: Roof Area\n",
        "* X5: Overall Height\n",
        "* X6: Orientation # Rotation of the building shape (north, east)\n",
        "* X7: Glazing area\n",
        "* X8: Glazing area distribution # How windows are distributed\n",
        "* Y1: Heating Load\n",
        "* Y2: Cooling Load"
      ]
    },
    {
      "metadata": {
        "id": "VBx3fiIZ8LzD",
        "colab_type": "code",
        "colab": {
          "base_uri": "https://localhost:8080/",
          "height": 482
        },
        "outputId": "b22f15fa-b0d0-45f0-cf90-bea580830c79"
      },
      "cell_type": "code",
      "source": [
        "data_path = \"https://raw.githubusercontent.com/DarrenCook/h2o/bk/datasets/ENB2012_data.csv\"\n",
        "ENB_data = h2o.import_file(data_path)\n",
        "\n",
        "ENB_data.describe()\n",
        "\n",
        "factorsList = [\"X6\",\"X8\"]\n",
        "ENB_data[factorsList] = ENB_data[factorsList].asfactor()\n",
        "\n",
        "train, test = ENB_data.split_frame([0.8])\n",
        "\n",
        "x = [\"X1\", \"X2\", \"X3\", \"X4\", \"X5\", \"X6\", \"X7\", \"X8\"]\n",
        "y = \"Y2\"  #Or \"Y1\""
      ],
      "execution_count": 6,
      "outputs": [
        {
          "output_type": "stream",
          "text": [
            "Parse progress: |█████████████████████████████████████████████████████████| 100%\n",
            "Rows:768\n",
            "Cols:10\n",
            "\n",
            "\n"
          ],
          "name": "stdout"
        },
        {
          "output_type": "display_data",
          "data": {
            "text/html": [
              "<table>\n",
              "<thead>\n",
              "<tr><th>       </th><th>X1                 </th><th>X2               </th><th>X3                </th><th>X4                </th><th>X5                </th><th>X6                </th><th>X7                 </th><th>X8                </th><th>Y1                </th><th>Y2                </th></tr>\n",
              "</thead>\n",
              "<tbody>\n",
              "<tr><td>type   </td><td>real               </td><td>real             </td><td>real              </td><td>real              </td><td>real              </td><td>int               </td><td>real               </td><td>int               </td><td>real              </td><td>real              </td></tr>\n",
              "<tr><td>mins   </td><td>0.62               </td><td>514.5            </td><td>245.0             </td><td>110.25            </td><td>3.5               </td><td>2.0               </td><td>0.0                </td><td>0.0               </td><td>6.01              </td><td>10.9              </td></tr>\n",
              "<tr><td>mean   </td><td>0.7641666666666665 </td><td>671.7083333333327</td><td>318.5000000000001 </td><td>176.60416666666683</td><td>5.249999999999997 </td><td>3.5000000000000018</td><td>0.234375           </td><td>2.8124999999999982</td><td>22.307200520833337</td><td>24.587760416666658</td></tr>\n",
              "<tr><td>maxs   </td><td>0.98               </td><td>808.5            </td><td>416.5             </td><td>220.5             </td><td>7.0               </td><td>5.0               </td><td>0.4                </td><td>5.0               </td><td>43.1              </td><td>48.03             </td></tr>\n",
              "<tr><td>sigma  </td><td>0.10577747587475196</td><td>88.0861160558684 </td><td>43.626481437994876</td><td>45.165950222920465</td><td>1.7511404367453502</td><td>1.1187625870603637</td><td>0.13322056291470774</td><td>1.55095966422475  </td><td>10.09019573200616 </td><td>9.513305562326165 </td></tr>\n",
              "<tr><td>zeros  </td><td>0                  </td><td>0                </td><td>0                 </td><td>0                 </td><td>0                 </td><td>0                 </td><td>48                 </td><td>48                </td><td>0                 </td><td>0                 </td></tr>\n",
              "<tr><td>missing</td><td>0                  </td><td>0                </td><td>0                 </td><td>0                 </td><td>0                 </td><td>0                 </td><td>0                  </td><td>0                 </td><td>0                 </td><td>0                 </td></tr>\n",
              "<tr><td>0      </td><td>0.98               </td><td>514.5            </td><td>294.0             </td><td>110.25            </td><td>7.0               </td><td>2.0               </td><td>0.0                </td><td>0.0               </td><td>15.55             </td><td>21.33             </td></tr>\n",
              "<tr><td>1      </td><td>0.98               </td><td>514.5            </td><td>294.0             </td><td>110.25            </td><td>7.0               </td><td>3.0               </td><td>0.0                </td><td>0.0               </td><td>15.55             </td><td>21.33             </td></tr>\n",
              "<tr><td>2      </td><td>0.98               </td><td>514.5            </td><td>294.0             </td><td>110.25            </td><td>7.0               </td><td>4.0               </td><td>0.0                </td><td>0.0               </td><td>15.55             </td><td>21.33             </td></tr>\n",
              "<tr><td>3      </td><td>0.98               </td><td>514.5            </td><td>294.0             </td><td>110.25            </td><td>7.0               </td><td>5.0               </td><td>0.0                </td><td>0.0               </td><td>15.55             </td><td>21.33             </td></tr>\n",
              "<tr><td>4      </td><td>0.9                </td><td>563.5            </td><td>318.5             </td><td>122.5             </td><td>7.0               </td><td>2.0               </td><td>0.0                </td><td>0.0               </td><td>20.84             </td><td>28.28             </td></tr>\n",
              "<tr><td>5      </td><td>0.9                </td><td>563.5            </td><td>318.5             </td><td>122.5             </td><td>7.0               </td><td>3.0               </td><td>0.0                </td><td>0.0               </td><td>21.46             </td><td>25.38             </td></tr>\n",
              "<tr><td>6      </td><td>0.9                </td><td>563.5            </td><td>318.5             </td><td>122.5             </td><td>7.0               </td><td>4.0               </td><td>0.0                </td><td>0.0               </td><td>20.71             </td><td>25.16             </td></tr>\n",
              "<tr><td>7      </td><td>0.9                </td><td>563.5            </td><td>318.5             </td><td>122.5             </td><td>7.0               </td><td>5.0               </td><td>0.0                </td><td>0.0               </td><td>19.68             </td><td>29.6              </td></tr>\n",
              "<tr><td>8      </td><td>0.86               </td><td>588.0            </td><td>294.0             </td><td>147.0             </td><td>7.0               </td><td>2.0               </td><td>0.0                </td><td>0.0               </td><td>19.5              </td><td>27.3              </td></tr>\n",
              "<tr><td>9      </td><td>0.86               </td><td>588.0            </td><td>294.0             </td><td>147.0             </td><td>7.0               </td><td>3.0               </td><td>0.0                </td><td>0.0               </td><td>19.95             </td><td>21.97             </td></tr>\n",
              "</tbody>\n",
              "</table>"
            ]
          },
          "metadata": {
            "tags": []
          }
        }
      ]
    },
    {
      "metadata": {
        "id": "McS_tid080Lg",
        "colab_type": "text"
      },
      "cell_type": "markdown",
      "source": [
        "## Random Forest\n",
        "\n",
        "Padrões:\n",
        "\n",
        "max número de árvores = 50\n",
        "max profundidade = 20 (controla a complexidade de cada árvore)"
      ]
    },
    {
      "metadata": {
        "id": "YjgbaIik8nwJ",
        "colab_type": "code",
        "colab": {
          "base_uri": "https://localhost:8080/",
          "height": 1472
        },
        "outputId": "0f63ae15-b676-4922-c091-e7aa03bb4cb5"
      },
      "cell_type": "code",
      "source": [
        "Random_forest = H2ORandomForestEstimator(model_id=\"RF_defaults\", nfolds=10) # nfolds determina a validação cruzada\n",
        "Random_forest.train(x, y, train)\n",
        "\n",
        "Random_forest"
      ],
      "execution_count": 15,
      "outputs": [
        {
          "output_type": "stream",
          "text": [
            "drf Model Build progress: |███████████████████████████████████████████████| 100%\n",
            "Model Details\n",
            "=============\n",
            "H2ORandomForestEstimator :  Distributed Random Forest\n",
            "Model Key:  RF_defaults\n",
            "\n",
            "\n",
            "ModelMetricsRegression: drf\n",
            "** Reported on train data. **\n",
            "\n",
            "MSE: 3.546518052665339\n",
            "RMSE: 1.883220128573752\n",
            "MAE: 1.3085243413398755\n",
            "RMSLE: 0.058586591720126854\n",
            "Mean Residual Deviance: 3.546518052665339\n",
            "\n",
            "ModelMetricsRegression: drf\n",
            "** Reported on cross-validation data. **\n",
            "\n",
            "MSE: 3.3878256818480805\n",
            "RMSE: 1.8406047054835213\n",
            "MAE: 1.2899755589683335\n",
            "RMSLE: 0.05733087348218399\n",
            "Mean Residual Deviance: 3.3878256818480805\n",
            "Cross-Validation Metrics Summary: \n"
          ],
          "name": "stdout"
        },
        {
          "output_type": "display_data",
          "data": {
            "text/html": [
              "<div style=\"overflow:auto\"><table style=\"width:50%\"><tr><td><b></b></td>\n",
              "<td><b>mean</b></td>\n",
              "<td><b>sd</b></td>\n",
              "<td><b>cv_1_valid</b></td>\n",
              "<td><b>cv_2_valid</b></td>\n",
              "<td><b>cv_3_valid</b></td>\n",
              "<td><b>cv_4_valid</b></td>\n",
              "<td><b>cv_5_valid</b></td>\n",
              "<td><b>cv_6_valid</b></td>\n",
              "<td><b>cv_7_valid</b></td>\n",
              "<td><b>cv_8_valid</b></td>\n",
              "<td><b>cv_9_valid</b></td>\n",
              "<td><b>cv_10_valid</b></td></tr>\n",
              "<tr><td>mae</td>\n",
              "<td>1.285542</td>\n",
              "<td>0.0969215</td>\n",
              "<td>1.2727948</td>\n",
              "<td>1.3324128</td>\n",
              "<td>1.3670131</td>\n",
              "<td>1.347689</td>\n",
              "<td>1.210411</td>\n",
              "<td>1.5274715</td>\n",
              "<td>1.0302113</td>\n",
              "<td>1.3488773</td>\n",
              "<td>1.3317478</td>\n",
              "<td>1.0867914</td></tr>\n",
              "<tr><td>mean_residual_deviance</td>\n",
              "<td>3.3502119</td>\n",
              "<td>0.4308272</td>\n",
              "<td>3.0767028</td>\n",
              "<td>4.007385</td>\n",
              "<td>3.5522285</td>\n",
              "<td>4.3660355</td>\n",
              "<td>2.5989387</td>\n",
              "<td>3.6668618</td>\n",
              "<td>2.4661949</td>\n",
              "<td>3.7736878</td>\n",
              "<td>3.3561354</td>\n",
              "<td>2.6379485</td></tr>\n",
              "<tr><td>mse</td>\n",
              "<td>3.3502119</td>\n",
              "<td>0.4308272</td>\n",
              "<td>3.0767028</td>\n",
              "<td>4.007385</td>\n",
              "<td>3.5522285</td>\n",
              "<td>4.3660355</td>\n",
              "<td>2.5989387</td>\n",
              "<td>3.6668618</td>\n",
              "<td>2.4661949</td>\n",
              "<td>3.7736878</td>\n",
              "<td>3.3561354</td>\n",
              "<td>2.6379485</td></tr>\n",
              "<tr><td>r2</td>\n",
              "<td>0.9622551</td>\n",
              "<td>0.0047765</td>\n",
              "<td>0.9671108</td>\n",
              "<td>0.9554455</td>\n",
              "<td>0.9547865</td>\n",
              "<td>0.9532502</td>\n",
              "<td>0.9683892</td>\n",
              "<td>0.9548921</td>\n",
              "<td>0.9711002</td>\n",
              "<td>0.9645776</td>\n",
              "<td>0.9621419</td>\n",
              "<td>0.9708575</td></tr>\n",
              "<tr><td>residual_deviance</td>\n",
              "<td>3.3502119</td>\n",
              "<td>0.4308272</td>\n",
              "<td>3.0767028</td>\n",
              "<td>4.007385</td>\n",
              "<td>3.5522285</td>\n",
              "<td>4.3660355</td>\n",
              "<td>2.5989387</td>\n",
              "<td>3.6668618</td>\n",
              "<td>2.4661949</td>\n",
              "<td>3.7736878</td>\n",
              "<td>3.3561354</td>\n",
              "<td>2.6379485</td></tr>\n",
              "<tr><td>rmse</td>\n",
              "<td>1.822633</td>\n",
              "<td>0.1187868</td>\n",
              "<td>1.7540532</td>\n",
              "<td>2.0018454</td>\n",
              "<td>1.8847357</td>\n",
              "<td>2.0895061</td>\n",
              "<td>1.6121224</td>\n",
              "<td>1.9149052</td>\n",
              "<td>1.5704124</td>\n",
              "<td>1.9425982</td>\n",
              "<td>1.8319758</td>\n",
              "<td>1.6241763</td></tr>\n",
              "<tr><td>rmsle</td>\n",
              "<td>0.0570639</td>\n",
              "<td>0.0029194</td>\n",
              "<td>0.0535044</td>\n",
              "<td>0.0582909</td>\n",
              "<td>0.0621287</td>\n",
              "<td>0.0605292</td>\n",
              "<td>0.0509648</td>\n",
              "<td>0.0594544</td>\n",
              "<td>0.0508903</td>\n",
              "<td>0.0593079</td>\n",
              "<td>0.0617546</td>\n",
              "<td>0.0538140</td></tr></table></div>"
            ],
            "text/plain": [
              "                        mean       sd          cv_1_valid    cv_2_valid    cv_3_valid    cv_4_valid    cv_5_valid    cv_6_valid    cv_7_valid    cv_8_valid    cv_9_valid    cv_10_valid\n",
              "----------------------  ---------  ----------  ------------  ------------  ------------  ------------  ------------  ------------  ------------  ------------  ------------  -------------\n",
              "mae                     1.28554    0.0969215   1.27279       1.33241       1.36701       1.34769       1.21041       1.52747       1.03021       1.34888       1.33175       1.08679\n",
              "mean_residual_deviance  3.35021    0.430827    3.0767        4.00739       3.55223       4.36604       2.59894       3.66686       2.46619       3.77369       3.35614       2.63795\n",
              "mse                     3.35021    0.430827    3.0767        4.00739       3.55223       4.36604       2.59894       3.66686       2.46619       3.77369       3.35614       2.63795\n",
              "r2                      0.962255   0.00477652  0.967111      0.955445      0.954786      0.95325       0.968389      0.954892      0.9711        0.964578      0.962142      0.970858\n",
              "residual_deviance       3.35021    0.430827    3.0767        4.00739       3.55223       4.36604       2.59894       3.66686       2.46619       3.77369       3.35614       2.63795\n",
              "rmse                    1.82263    0.118787    1.75405       2.00185       1.88474       2.08951       1.61212       1.91491       1.57041       1.9426        1.83198       1.62418\n",
              "rmsle                   0.0570639  0.00291945  0.0535044     0.0582909     0.0621287     0.0605292     0.0509648     0.0594544     0.0508903     0.0593079     0.0617546     0.053814"
            ]
          },
          "metadata": {
            "tags": []
          }
        },
        {
          "output_type": "stream",
          "text": [
            "Scoring History: \n"
          ],
          "name": "stdout"
        },
        {
          "output_type": "display_data",
          "data": {
            "text/html": [
              "<div style=\"overflow:auto\"><table style=\"width:50%\"><tr><td><b></b></td>\n",
              "<td><b>timestamp</b></td>\n",
              "<td><b>duration</b></td>\n",
              "<td><b>number_of_trees</b></td>\n",
              "<td><b>training_rmse</b></td>\n",
              "<td><b>training_mae</b></td>\n",
              "<td><b>training_deviance</b></td></tr>\n",
              "<tr><td></td>\n",
              "<td>2018-09-23 15:27:13</td>\n",
              "<td> 3.170 sec</td>\n",
              "<td>0.0</td>\n",
              "<td>nan</td>\n",
              "<td>nan</td>\n",
              "<td>nan</td></tr>\n",
              "<tr><td></td>\n",
              "<td>2018-09-23 15:27:13</td>\n",
              "<td> 3.175 sec</td>\n",
              "<td>1.0</td>\n",
              "<td>2.5146226</td>\n",
              "<td>1.6118356</td>\n",
              "<td>6.3233269</td></tr>\n",
              "<tr><td></td>\n",
              "<td>2018-09-23 15:27:13</td>\n",
              "<td> 3.179 sec</td>\n",
              "<td>2.0</td>\n",
              "<td>2.6770853</td>\n",
              "<td>1.6544800</td>\n",
              "<td>7.1667856</td></tr>\n",
              "<tr><td></td>\n",
              "<td>2018-09-23 15:27:13</td>\n",
              "<td> 3.184 sec</td>\n",
              "<td>3.0</td>\n",
              "<td>2.6113756</td>\n",
              "<td>1.7020979</td>\n",
              "<td>6.8192827</td></tr>\n",
              "<tr><td></td>\n",
              "<td>2018-09-23 15:27:13</td>\n",
              "<td> 3.188 sec</td>\n",
              "<td>4.0</td>\n",
              "<td>2.4692221</td>\n",
              "<td>1.6260974</td>\n",
              "<td>6.0970576</td></tr>\n",
              "<tr><td>---</td>\n",
              "<td>---</td>\n",
              "<td>---</td>\n",
              "<td>---</td>\n",
              "<td>---</td>\n",
              "<td>---</td>\n",
              "<td>---</td></tr>\n",
              "<tr><td></td>\n",
              "<td>2018-09-23 15:27:13</td>\n",
              "<td> 3.386 sec</td>\n",
              "<td>46.0</td>\n",
              "<td>1.8958373</td>\n",
              "<td>1.3192077</td>\n",
              "<td>3.5941989</td></tr>\n",
              "<tr><td></td>\n",
              "<td>2018-09-23 15:27:13</td>\n",
              "<td> 3.392 sec</td>\n",
              "<td>47.0</td>\n",
              "<td>1.8915504</td>\n",
              "<td>1.3172934</td>\n",
              "<td>3.5779631</td></tr>\n",
              "<tr><td></td>\n",
              "<td>2018-09-23 15:27:13</td>\n",
              "<td> 3.396 sec</td>\n",
              "<td>48.0</td>\n",
              "<td>1.8899409</td>\n",
              "<td>1.3179690</td>\n",
              "<td>3.5718765</td></tr>\n",
              "<tr><td></td>\n",
              "<td>2018-09-23 15:27:13</td>\n",
              "<td> 3.400 sec</td>\n",
              "<td>49.0</td>\n",
              "<td>1.8847511</td>\n",
              "<td>1.3108511</td>\n",
              "<td>3.5522868</td></tr>\n",
              "<tr><td></td>\n",
              "<td>2018-09-23 15:27:13</td>\n",
              "<td> 3.405 sec</td>\n",
              "<td>50.0</td>\n",
              "<td>1.8832201</td>\n",
              "<td>1.3085243</td>\n",
              "<td>3.5465181</td></tr></table></div>"
            ],
            "text/plain": [
              "     timestamp            duration    number_of_trees    training_rmse       training_mae        training_deviance\n",
              "---  -------------------  ----------  -----------------  ------------------  ------------------  -------------------\n",
              "     2018-09-23 15:27:13  3.170 sec   0.0                nan                 nan                 nan\n",
              "     2018-09-23 15:27:13  3.175 sec   1.0                2.514622617889227   1.6118355630266614  6.323326910400069\n",
              "     2018-09-23 15:27:13  3.179 sec   2.0                2.6770852744206595  1.6544799523443063  7.166785566519938\n",
              "     2018-09-23 15:27:13  3.184 sec   3.0                2.6113756273529605  1.7020978762473895  6.819282667133068\n",
              "     2018-09-23 15:27:13  3.188 sec   4.0                2.469222068618402   1.6260973729068557  6.09705762415214\n",
              "---  ---                  ---         ---                ---                 ---                 ---\n",
              "     2018-09-23 15:27:13  3.386 sec   46.0               1.8958372667255232  1.319207662130857   3.5941989419053026\n",
              "     2018-09-23 15:27:13  3.392 sec   47.0               1.8915504454004353  1.317293387299659   3.577963087494585\n",
              "     2018-09-23 15:27:13  3.396 sec   48.0               1.8899408744124937  1.3179690063798626  3.5718765087750612\n",
              "     2018-09-23 15:27:13  3.400 sec   49.0               1.8847511320883281  1.310851138896164   3.552286829908234\n",
              "     2018-09-23 15:27:13  3.405 sec   50.0               1.883220128573752   1.3085243413398755  3.546518052665339"
            ]
          },
          "metadata": {
            "tags": []
          }
        },
        {
          "output_type": "stream",
          "text": [
            "\n",
            "See the whole table with table.as_data_frame()\n",
            "Variable Importances: \n"
          ],
          "name": "stdout"
        },
        {
          "output_type": "display_data",
          "data": {
            "text/html": [
              "<div style=\"overflow:auto\"><table style=\"width:50%\"><tr><td><b>variable</b></td>\n",
              "<td><b>relative_importance</b></td>\n",
              "<td><b>scaled_importance</b></td>\n",
              "<td><b>percentage</b></td></tr>\n",
              "<tr><td>X1</td>\n",
              "<td>687282.25</td>\n",
              "<td>1.0</td>\n",
              "<td>0.2852939</td></tr>\n",
              "<tr><td>X2</td>\n",
              "<td>662301.5625000</td>\n",
              "<td>0.9636529</td>\n",
              "<td>0.2749243</td></tr>\n",
              "<tr><td>X4</td>\n",
              "<td>499485.2812500</td>\n",
              "<td>0.7267542</td>\n",
              "<td>0.2073386</td></tr>\n",
              "<tr><td>X5</td>\n",
              "<td>383248.3125000</td>\n",
              "<td>0.5576287</td>\n",
              "<td>0.1590881</td></tr>\n",
              "<tr><td>X3</td>\n",
              "<td>97898.6640625</td>\n",
              "<td>0.1424432</td>\n",
              "<td>0.0406382</td></tr>\n",
              "<tr><td>X7</td>\n",
              "<td>52679.9257812</td>\n",
              "<td>0.0766496</td>\n",
              "<td>0.0218677</td></tr>\n",
              "<tr><td>X8</td>\n",
              "<td>19437.8066406</td>\n",
              "<td>0.0282821</td>\n",
              "<td>0.0080687</td></tr>\n",
              "<tr><td>X6</td>\n",
              "<td>6698.3549805</td>\n",
              "<td>0.0097461</td>\n",
              "<td>0.0027805</td></tr></table></div>"
            ],
            "text/plain": [
              "variable    relative_importance    scaled_importance    percentage\n",
              "----------  ---------------------  -------------------  ------------\n",
              "X1          687282                 1                    0.285294\n",
              "X2          662302                 0.963653             0.274924\n",
              "X4          499485                 0.726754             0.207339\n",
              "X5          383248                 0.557629             0.159088\n",
              "X3          97898.7                0.142443             0.0406382\n",
              "X7          52679.9                0.0766496            0.0218677\n",
              "X8          19437.8                0.0282821            0.00806872\n",
              "X6          6698.35                0.00974615           0.00278052"
            ]
          },
          "metadata": {
            "tags": []
          }
        },
        {
          "output_type": "execute_result",
          "data": {
            "text/plain": [
              ""
            ]
          },
          "metadata": {
            "tags": []
          },
          "execution_count": 15
        }
      ]
    },
    {
      "metadata": {
        "id": "WfykrzMvDXZZ",
        "colab_type": "text"
      },
      "cell_type": "markdown",
      "source": [
        "### Random Forest - Grid search\n",
        "\n",
        "#### Cartesian"
      ]
    },
    {
      "metadata": {
        "id": "LJ55xgdZDdpj",
        "colab_type": "code",
        "colab": {
          "base_uri": "https://localhost:8080/",
          "height": 34
        },
        "outputId": "8c15518f-01a8-4b3e-da94-4cdc4a12afa1"
      },
      "cell_type": "code",
      "source": [
        "import h2o.grid\n",
        "\n",
        "Random_Forest_Grid = h2o.grid.H2OGridSearch( H2ORandomForestEstimator(nfolds=10),\n",
        "  hyper_params = {\n",
        "    \"ntrees\": [50, 100, 120],\n",
        "    \"max_depth\": [40, 60],\n",
        "    \"min_rows\": [1, 2]\n",
        "    }\n",
        "  )\n",
        "Random_Forest_Grid.train(x, y, train)"
      ],
      "execution_count": 16,
      "outputs": [
        {
          "output_type": "stream",
          "text": [
            "drf Grid Build progress: |████████████████████████████████████████████████| 100%\n"
          ],
          "name": "stdout"
        }
      ]
    },
    {
      "metadata": {
        "id": "slMJGTQ1Dxho",
        "colab_type": "code",
        "colab": {
          "base_uri": "https://localhost:8080/",
          "height": 706
        },
        "outputId": "a5812ece-9244-4c70-8de9-9ccd18914284"
      },
      "cell_type": "code",
      "source": [
        "Random_Forest_Grid"
      ],
      "execution_count": 17,
      "outputs": [
        {
          "output_type": "stream",
          "text": [
            "     max_depth min_rows ntrees  \\\n",
            "0           40      1.0    120   \n",
            "1           60      1.0    100   \n",
            "2           60      1.0     50   \n",
            "3           40      2.0     50   \n",
            "4           60      2.0    120   \n",
            "5           40      2.0    120   \n",
            "6           40      1.0    100   \n",
            "7           60      1.0    120   \n",
            "8           40      2.0    100   \n",
            "9           40      1.0     50   \n",
            "10          60      2.0     50   \n",
            "11          60      2.0    100   \n",
            "\n",
            "                                                       model_ids  \\\n",
            "0    Grid_DRF_py_7_sid_b396_model_python_1537715595091_3_model_8   \n",
            "1    Grid_DRF_py_7_sid_b396_model_python_1537715595091_3_model_5   \n",
            "2    Grid_DRF_py_7_sid_b396_model_python_1537715595091_3_model_1   \n",
            "3    Grid_DRF_py_7_sid_b396_model_python_1537715595091_3_model_2   \n",
            "4   Grid_DRF_py_7_sid_b396_model_python_1537715595091_3_model_11   \n",
            "5   Grid_DRF_py_7_sid_b396_model_python_1537715595091_3_model_10   \n",
            "6    Grid_DRF_py_7_sid_b396_model_python_1537715595091_3_model_4   \n",
            "7    Grid_DRF_py_7_sid_b396_model_python_1537715595091_3_model_9   \n",
            "8    Grid_DRF_py_7_sid_b396_model_python_1537715595091_3_model_6   \n",
            "9    Grid_DRF_py_7_sid_b396_model_python_1537715595091_3_model_0   \n",
            "10   Grid_DRF_py_7_sid_b396_model_python_1537715595091_3_model_3   \n",
            "11   Grid_DRF_py_7_sid_b396_model_python_1537715595091_3_model_7   \n",
            "\n",
            "     residual_deviance  \n",
            "0   3.4539940330398267  \n",
            "1   3.4607745759313064  \n",
            "2    3.476194409758052  \n",
            "3    3.486959842586765  \n",
            "4   3.5509487065521146  \n",
            "5   3.6372730403927793  \n",
            "6   3.6655116529269227  \n",
            "7    3.673193483599976  \n",
            "8   3.6789010632630132  \n",
            "9     3.70951653481414  \n",
            "10  3.7459943501629573  \n",
            "11  3.7993136196006443  \n"
          ],
          "name": "stdout"
        },
        {
          "output_type": "execute_result",
          "data": {
            "text/plain": [
              ""
            ]
          },
          "metadata": {
            "tags": []
          },
          "execution_count": 17
        }
      ]
    },
    {
      "metadata": {
        "id": "SPLftLtyFV7z",
        "colab_type": "text"
      },
      "cell_type": "markdown",
      "source": [
        "# Gradient Boosting Machines:\n"
      ]
    },
    {
      "metadata": {
        "id": "876m26QoFdpu",
        "colab_type": "code",
        "colab": {
          "base_uri": "https://localhost:8080/",
          "height": 1472
        },
        "outputId": "2f0cc0b5-1ce9-47db-f034-5d16d0044783"
      },
      "cell_type": "code",
      "source": [
        "GBM = H2OGradientBoostingEstimator(model_id = \"GBM_defaults\", nfolds = 10)\n",
        "\n",
        "GBM.train(x, y, train)\n",
        "\n",
        "GBM"
      ],
      "execution_count": 19,
      "outputs": [
        {
          "output_type": "stream",
          "text": [
            "gbm Model Build progress: |███████████████████████████████████████████████| 100%\n",
            "Model Details\n",
            "=============\n",
            "H2OGradientBoostingEstimator :  Gradient Boosting Machine\n",
            "Model Key:  GBM_defaults\n",
            "\n",
            "\n",
            "ModelMetricsRegression: gbm\n",
            "** Reported on train data. **\n",
            "\n",
            "MSE: 1.1937368912050104\n",
            "RMSE: 1.092582670192517\n",
            "MAE: 0.7046061258811456\n",
            "RMSLE: 0.03237817841407894\n",
            "Mean Residual Deviance: 1.1937368912050104\n",
            "\n",
            "ModelMetricsRegression: gbm\n",
            "** Reported on cross-validation data. **\n",
            "\n",
            "MSE: 2.255580697536307\n",
            "RMSE: 1.50185908045206\n",
            "MAE: 0.9468387266962067\n",
            "RMSLE: 0.04414452547550878\n",
            "Mean Residual Deviance: 2.255580697536307\n",
            "Cross-Validation Metrics Summary: \n"
          ],
          "name": "stdout"
        },
        {
          "output_type": "display_data",
          "data": {
            "text/html": [
              "<div style=\"overflow:auto\"><table style=\"width:50%\"><tr><td><b></b></td>\n",
              "<td><b>mean</b></td>\n",
              "<td><b>sd</b></td>\n",
              "<td><b>cv_1_valid</b></td>\n",
              "<td><b>cv_2_valid</b></td>\n",
              "<td><b>cv_3_valid</b></td>\n",
              "<td><b>cv_4_valid</b></td>\n",
              "<td><b>cv_5_valid</b></td>\n",
              "<td><b>cv_6_valid</b></td>\n",
              "<td><b>cv_7_valid</b></td>\n",
              "<td><b>cv_8_valid</b></td>\n",
              "<td><b>cv_9_valid</b></td>\n",
              "<td><b>cv_10_valid</b></td></tr>\n",
              "<tr><td>mae</td>\n",
              "<td>0.9399843</td>\n",
              "<td>0.1574018</td>\n",
              "<td>0.5937156</td>\n",
              "<td>0.7171463</td>\n",
              "<td>1.1969008</td>\n",
              "<td>0.5670162</td>\n",
              "<td>1.0127196</td>\n",
              "<td>1.0877723</td>\n",
              "<td>0.9111239</td>\n",
              "<td>1.1845775</td>\n",
              "<td>1.0966073</td>\n",
              "<td>1.0322639</td></tr>\n",
              "<tr><td>mean_residual_deviance</td>\n",
              "<td>2.20955</td>\n",
              "<td>0.6901889</td>\n",
              "<td>0.76778</td>\n",
              "<td>1.2379324</td>\n",
              "<td>3.33471</td>\n",
              "<td>0.6902708</td>\n",
              "<td>3.5886931</td>\n",
              "<td>2.762417</td>\n",
              "<td>1.8047614</td>\n",
              "<td>2.6990082</td>\n",
              "<td>2.6617754</td>\n",
              "<td>2.5481515</td></tr>\n",
              "<tr><td>mse</td>\n",
              "<td>2.20955</td>\n",
              "<td>0.6901889</td>\n",
              "<td>0.76778</td>\n",
              "<td>1.2379324</td>\n",
              "<td>3.33471</td>\n",
              "<td>0.6902708</td>\n",
              "<td>3.5886931</td>\n",
              "<td>2.762417</td>\n",
              "<td>1.8047614</td>\n",
              "<td>2.6990082</td>\n",
              "<td>2.6617754</td>\n",
              "<td>2.5481515</td></tr>\n",
              "<tr><td>r2</td>\n",
              "<td>0.975133</td>\n",
              "<td>0.0073704</td>\n",
              "<td>0.9901634</td>\n",
              "<td>0.9862893</td>\n",
              "<td>0.960759</td>\n",
              "<td>0.9910001</td>\n",
              "<td>0.9664707</td>\n",
              "<td>0.9731414</td>\n",
              "<td>0.9793822</td>\n",
              "<td>0.9699494</td>\n",
              "<td>0.9636006</td>\n",
              "<td>0.9705742</td></tr>\n",
              "<tr><td>residual_deviance</td>\n",
              "<td>2.20955</td>\n",
              "<td>0.6901889</td>\n",
              "<td>0.76778</td>\n",
              "<td>1.2379324</td>\n",
              "<td>3.33471</td>\n",
              "<td>0.6902708</td>\n",
              "<td>3.5886931</td>\n",
              "<td>2.762417</td>\n",
              "<td>1.8047614</td>\n",
              "<td>2.6990082</td>\n",
              "<td>2.6617754</td>\n",
              "<td>2.5481515</td></tr>\n",
              "<tr><td>rmse</td>\n",
              "<td>1.4416304</td>\n",
              "<td>0.2561757</td>\n",
              "<td>0.8762306</td>\n",
              "<td>1.1126242</td>\n",
              "<td>1.8261188</td>\n",
              "<td>0.8308254</td>\n",
              "<td>1.8943846</td>\n",
              "<td>1.6620522</td>\n",
              "<td>1.3434141</td>\n",
              "<td>1.6428659</td>\n",
              "<td>1.6314949</td>\n",
              "<td>1.596293</td></tr>\n",
              "<tr><td>rmsle</td>\n",
              "<td>0.0431794</td>\n",
              "<td>0.0054727</td>\n",
              "<td>0.0366516</td>\n",
              "<td>0.0349351</td>\n",
              "<td>0.0508390</td>\n",
              "<td>0.0265682</td>\n",
              "<td>0.0491761</td>\n",
              "<td>0.0495720</td>\n",
              "<td>0.0402341</td>\n",
              "<td>0.0484061</td>\n",
              "<td>0.0478295</td>\n",
              "<td>0.0475823</td></tr></table></div>"
            ],
            "text/plain": [
              "                        mean       sd          cv_1_valid    cv_2_valid    cv_3_valid    cv_4_valid    cv_5_valid    cv_6_valid    cv_7_valid    cv_8_valid    cv_9_valid    cv_10_valid\n",
              "----------------------  ---------  ----------  ------------  ------------  ------------  ------------  ------------  ------------  ------------  ------------  ------------  -------------\n",
              "mae                     0.939984   0.157402    0.593716      0.717146      1.1969        0.567016      1.01272       1.08777       0.911124      1.18458       1.09661       1.03226\n",
              "mean_residual_deviance  2.20955    0.690189    0.76778       1.23793       3.33471       0.690271      3.58869       2.76242       1.80476       2.69901       2.66178       2.54815\n",
              "mse                     2.20955    0.690189    0.76778       1.23793       3.33471       0.690271      3.58869       2.76242       1.80476       2.69901       2.66178       2.54815\n",
              "r2                      0.975133   0.00737041  0.990163      0.986289      0.960759      0.991         0.966471      0.973141      0.979382      0.969949      0.963601      0.970574\n",
              "residual_deviance       2.20955    0.690189    0.76778       1.23793       3.33471       0.690271      3.58869       2.76242       1.80476       2.69901       2.66178       2.54815\n",
              "rmse                    1.44163    0.256176    0.876231      1.11262       1.82612       0.830825      1.89438       1.66205       1.34341       1.64287       1.63149       1.59629\n",
              "rmsle                   0.0431794  0.0054727   0.0366516     0.0349351     0.050839      0.0265682     0.0491761     0.049572      0.0402341     0.0484061     0.0478295     0.0475823"
            ]
          },
          "metadata": {
            "tags": []
          }
        },
        {
          "output_type": "stream",
          "text": [
            "Scoring History: \n"
          ],
          "name": "stdout"
        },
        {
          "output_type": "display_data",
          "data": {
            "text/html": [
              "<div style=\"overflow:auto\"><table style=\"width:50%\"><tr><td><b></b></td>\n",
              "<td><b>timestamp</b></td>\n",
              "<td><b>duration</b></td>\n",
              "<td><b>number_of_trees</b></td>\n",
              "<td><b>training_rmse</b></td>\n",
              "<td><b>training_mae</b></td>\n",
              "<td><b>training_deviance</b></td></tr>\n",
              "<tr><td></td>\n",
              "<td>2018-09-23 15:32:04</td>\n",
              "<td> 2.806 sec</td>\n",
              "<td>0.0</td>\n",
              "<td>9.5031075</td>\n",
              "<td>8.5792825</td>\n",
              "<td>90.3090530</td></tr>\n",
              "<tr><td></td>\n",
              "<td>2018-09-23 15:32:04</td>\n",
              "<td> 2.812 sec</td>\n",
              "<td>1.0</td>\n",
              "<td>8.5904760</td>\n",
              "<td>7.7320971</td>\n",
              "<td>73.7962787</td></tr>\n",
              "<tr><td></td>\n",
              "<td>2018-09-23 15:32:04</td>\n",
              "<td> 2.817 sec</td>\n",
              "<td>2.0</td>\n",
              "<td>7.7701614</td>\n",
              "<td>6.9683161</td>\n",
              "<td>60.3754084</td></tr>\n",
              "<tr><td></td>\n",
              "<td>2018-09-23 15:32:04</td>\n",
              "<td> 2.825 sec</td>\n",
              "<td>3.0</td>\n",
              "<td>7.0378291</td>\n",
              "<td>6.2813952</td>\n",
              "<td>49.5310384</td></tr>\n",
              "<tr><td></td>\n",
              "<td>2018-09-23 15:32:04</td>\n",
              "<td> 2.831 sec</td>\n",
              "<td>4.0</td>\n",
              "<td>6.3831148</td>\n",
              "<td>5.6735693</td>\n",
              "<td>40.7441545</td></tr>\n",
              "<tr><td>---</td>\n",
              "<td>---</td>\n",
              "<td>---</td>\n",
              "<td>---</td>\n",
              "<td>---</td>\n",
              "<td>---</td>\n",
              "<td>---</td></tr>\n",
              "<tr><td></td>\n",
              "<td>2018-09-23 15:32:05</td>\n",
              "<td> 3.061 sec</td>\n",
              "<td>46.0</td>\n",
              "<td>1.1459554</td>\n",
              "<td>0.7424474</td>\n",
              "<td>1.3132139</td></tr>\n",
              "<tr><td></td>\n",
              "<td>2018-09-23 15:32:05</td>\n",
              "<td> 3.065 sec</td>\n",
              "<td>47.0</td>\n",
              "<td>1.1267350</td>\n",
              "<td>0.7320643</td>\n",
              "<td>1.2695318</td></tr>\n",
              "<tr><td></td>\n",
              "<td>2018-09-23 15:32:05</td>\n",
              "<td> 3.071 sec</td>\n",
              "<td>48.0</td>\n",
              "<td>1.1215120</td>\n",
              "<td>0.7274794</td>\n",
              "<td>1.2577892</td></tr>\n",
              "<tr><td></td>\n",
              "<td>2018-09-23 15:32:05</td>\n",
              "<td> 3.078 sec</td>\n",
              "<td>49.0</td>\n",
              "<td>1.0962537</td>\n",
              "<td>0.7082173</td>\n",
              "<td>1.2017722</td></tr>\n",
              "<tr><td></td>\n",
              "<td>2018-09-23 15:32:05</td>\n",
              "<td> 3.083 sec</td>\n",
              "<td>50.0</td>\n",
              "<td>1.0925827</td>\n",
              "<td>0.7046061</td>\n",
              "<td>1.1937369</td></tr></table></div>"
            ],
            "text/plain": [
              "     timestamp            duration    number_of_trees    training_rmse       training_mae        training_deviance\n",
              "---  -------------------  ----------  -----------------  ------------------  ------------------  -------------------\n",
              "     2018-09-23 15:32:04  2.806 sec   0.0                9.503107543481836   8.579282493776285   90.30905298298136\n",
              "     2018-09-23 15:32:04  2.812 sec   1.0                8.590476046706941   7.732097077679325   73.79627870904572\n",
              "     2018-09-23 15:32:04  2.817 sec   2.0                7.770161410920075   6.968316140112939   60.375408351751446\n",
              "     2018-09-23 15:32:04  2.825 sec   3.0                7.037829099848209   6.281395218589089   49.53103843867025\n",
              "     2018-09-23 15:32:04  2.831 sec   4.0                6.383114796096484   5.673569307698832   40.74415450014586\n",
              "---  ---                  ---         ---                ---                 ---                 ---\n",
              "     2018-09-23 15:32:05  3.061 sec   46.0               1.1459554380146206  0.7424474273409162  1.313213865915281\n",
              "     2018-09-23 15:32:05  3.065 sec   47.0               1.1267350368789024  0.7320643214436321  1.2695318433305016\n",
              "     2018-09-23 15:32:05  3.071 sec   48.0               1.1215120040237576  0.7274794052173565  1.2577891751693848\n",
              "     2018-09-23 15:32:05  3.078 sec   49.0               1.0962537105561743  0.7082172740589489  1.2017721979081801\n",
              "     2018-09-23 15:32:05  3.083 sec   50.0               1.092582670192517   0.7046061258811456  1.1937368912050104"
            ]
          },
          "metadata": {
            "tags": []
          }
        },
        {
          "output_type": "stream",
          "text": [
            "\n",
            "See the whole table with table.as_data_frame()\n",
            "Variable Importances: \n"
          ],
          "name": "stdout"
        },
        {
          "output_type": "display_data",
          "data": {
            "text/html": [
              "<div style=\"overflow:auto\"><table style=\"width:50%\"><tr><td><b>variable</b></td>\n",
              "<td><b>relative_importance</b></td>\n",
              "<td><b>scaled_importance</b></td>\n",
              "<td><b>percentage</b></td></tr>\n",
              "<tr><td>X4</td>\n",
              "<td>110554.9296875</td>\n",
              "<td>1.0</td>\n",
              "<td>0.3826473</td></tr>\n",
              "<tr><td>X1</td>\n",
              "<td>82415.1875000</td>\n",
              "<td>0.7454682</td>\n",
              "<td>0.2852514</td></tr>\n",
              "<tr><td>X5</td>\n",
              "<td>64251.2343750</td>\n",
              "<td>0.5811702</td>\n",
              "<td>0.2223832</td></tr>\n",
              "<tr><td>X7</td>\n",
              "<td>13620.0</td>\n",
              "<td>0.1231967</td>\n",
              "<td>0.0471409</td></tr>\n",
              "<tr><td>X3</td>\n",
              "<td>13408.8662109</td>\n",
              "<td>0.1212869</td>\n",
              "<td>0.0464101</td></tr>\n",
              "<tr><td>X8</td>\n",
              "<td>3680.0708008</td>\n",
              "<td>0.0332873</td>\n",
              "<td>0.0127373</td></tr>\n",
              "<tr><td>X6</td>\n",
              "<td>990.9569702</td>\n",
              "<td>0.0089635</td>\n",
              "<td>0.0034299</td></tr>\n",
              "<tr><td>X2</td>\n",
              "<td>0.0</td>\n",
              "<td>0.0</td>\n",
              "<td>0.0</td></tr></table></div>"
            ],
            "text/plain": [
              "variable    relative_importance    scaled_importance    percentage\n",
              "----------  ---------------------  -------------------  ------------\n",
              "X4          110555                 1                    0.382647\n",
              "X1          82415.2                0.745468             0.285251\n",
              "X5          64251.2                0.58117              0.222383\n",
              "X7          13620                  0.123197             0.0471409\n",
              "X3          13408.9                0.121287             0.0464101\n",
              "X8          3680.07                0.0332873            0.0127373\n",
              "X6          990.957                0.00896348           0.00342985\n",
              "X2          0                      0                    0"
            ]
          },
          "metadata": {
            "tags": []
          }
        },
        {
          "output_type": "execute_result",
          "data": {
            "text/plain": [
              ""
            ]
          },
          "metadata": {
            "tags": []
          },
          "execution_count": 19
        }
      ]
    },
    {
      "metadata": {
        "id": "zJN9vmQfFHzm",
        "colab_type": "text"
      },
      "cell_type": "markdown",
      "source": [
        "# Generalized linear models\n",
        "\n",
        "Engloba vários modelos lineares (regressão linear, regressão logística, etc).\n",
        "\n",
        "_\"Only one letter different from GBM, GLMs (generalized linear models) take a very\n",
        "different approach. Whereas decision trees are based on logic, and deep learning is a\n",
        "black box inspired by the human brain, GLMs are based on mathematics.\"_\n",
        "\n",
        "Se baseia na distribuição dos dados.\n",
        "\n",
        "Principais parâmetros:\n",
        "\n",
        "* family: The probability distribuition of the response variable (regression: gaussian, poisson, gamma, tweedie, etc, and classification: multinomial or binimial)\n",
        "\n",
        "* tweedie_link_power: Used when distribution is “tweedie.” Default is 1.\n",
        "\n",
        "* tweedie_variance_power: Used when distribution is “tweedie.” Default is 0.\n",
        "* link: Can be one of “family_default,” “identity,” “logit,” “log,” “inverse,” or “tweedie.” As the name suggests, “family_default” is the default, and is usually best.\n",
        "\n",
        "## Regularização:\n",
        "\n",
        "Continuando com os parâmetros:\n",
        "\n",
        "* _alpha_: Uma forma de evitar overfiting (valor padrão = $0.5$)\n",
        "\n",
        "**L1** = Lasso Regression: Transforma alguns coeficientes em zero (simplifica o problema)\n",
        "\n",
        "**L2** = Ridge Regression: Não zera mas busca simplificar o problema tornando-os próximos de zero.\n",
        "\n",
        "** Elastic Net:** Uma combinação dos dois modelos de regularização\n",
        "\n",
        "O parâmetro _alpha_ controla a regularização utilizada:\n",
        "_alpha_ = 1, Lasso\n",
        "_alpha_ = 0, Ridge Regression.\n",
        "\n",
        "Para combinar os dois (Elastic Net) defini-se o valor de _alpha_ entre 0 e  1.\n",
        "\n",
        "* _lambda:_ O \"quão forte\" deve ser aplicada a regularização (padrão determinado por *lamda_search*)\n",
        "\n",
        "**Dica:** Colocar *lambda_search = true*  \n",
        "\n",
        "Isso faz com que o modelo seja treinado com diferentes valores de _lambda_ e o melhor resultado é escolhido\n",
        "\n",
        "Outros parâmetros relacionados ao lambda são:\n",
        "* *lambda_min_ratio:* Menor valor de _lambda_ utilizado no *lambda_search* (padrão é 0.0001)\n",
        "* *nlambdas:* Número máximo de _lambdas_ a serem usados na busca\n",
        "\n",
        "_\" The default of –1 normally means it\n",
        "will try 100 lambdas but when doing ridge regression, i.e., alpha=0.0 , it instead\n",
        "defaults to 30 lambdas_\"\n",
        "\n",
        "* *max_active_predictors:* por padrão -1 (sem restrições) mas pode ser usado para que a busca acabe mais rápido.\n",
        "\n",
        "Outros parâmetros definem como o problema será resolvido e existem ainda parâmetros que tratam de outros fatores de restrições como colinearidade e _missing values_ dentre outros.\n",
        "\n",
        "\n"
      ]
    },
    {
      "metadata": {
        "id": "tHBgxHT-RMZ1",
        "colab_type": "code",
        "colab": {
          "base_uri": "https://localhost:8080/",
          "height": 34
        },
        "outputId": "3f3b5676-f13a-40d9-ff6a-bfa448424fc6"
      },
      "cell_type": "code",
      "source": [
        "glm = H2OGeneralizedLinearEstimator(model_id = \"GLM_defaults\", nfolds = 10)\n",
        "glm.train(x, y, train)"
      ],
      "execution_count": 21,
      "outputs": [
        {
          "output_type": "stream",
          "text": [
            "glm Model Build progress: |███████████████████████████████████████████████| 100%\n"
          ],
          "name": "stdout"
        }
      ]
    },
    {
      "metadata": {
        "id": "na1FHy1XTgCK",
        "colab_type": "code",
        "colab": {
          "base_uri": "https://localhost:8080/",
          "height": 142
        },
        "outputId": "f3d37eb7-c6ae-479e-acc8-43bee61dad9e"
      },
      "cell_type": "code",
      "source": [
        "glm.summary()"
      ],
      "execution_count": 22,
      "outputs": [
        {
          "output_type": "stream",
          "text": [
            "GLM Model: summary\n",
            "\n"
          ],
          "name": "stdout"
        },
        {
          "output_type": "display_data",
          "data": {
            "text/html": [
              "<div style=\"overflow:auto\"><table style=\"width:50%\"><tr><td><b></b></td>\n",
              "<td><b>family</b></td>\n",
              "<td><b>link</b></td>\n",
              "<td><b>regularization</b></td>\n",
              "<td><b>number_of_predictors_total</b></td>\n",
              "<td><b>number_of_active_predictors</b></td>\n",
              "<td><b>number_of_iterations</b></td>\n",
              "<td><b>training_frame</b></td></tr>\n",
              "<tr><td></td>\n",
              "<td>gaussian</td>\n",
              "<td>identity</td>\n",
              "<td>Elastic Net (alpha = 0.5, lambda = 0.01703 )</td>\n",
              "<td>16</td>\n",
              "<td>13</td>\n",
              "<td>1</td>\n",
              "<td>py_7_sid_b396</td></tr></table></div>"
            ],
            "text/plain": [
              "    family    link      regularization                                number_of_predictors_total    number_of_active_predictors    number_of_iterations    training_frame\n",
              "--  --------  --------  --------------------------------------------  ----------------------------  -----------------------------  ----------------------  ----------------\n",
              "    gaussian  identity  Elastic Net (alpha = 0.5, lambda = 0.01703 )  16                            13                             1                       py_7_sid_b396"
            ]
          },
          "metadata": {
            "tags": []
          }
        },
        {
          "output_type": "execute_result",
          "data": {
            "text/plain": [
              ""
            ]
          },
          "metadata": {
            "tags": []
          },
          "execution_count": 22
        }
      ]
    },
    {
      "metadata": {
        "id": "F8dgL_A1T_tm",
        "colab_type": "text"
      },
      "cell_type": "markdown",
      "source": [
        "Análise de importância das variáveis:"
      ]
    },
    {
      "metadata": {
        "id": "I_IbeFIvUCpk",
        "colab_type": "code",
        "colab": {
          "base_uri": "https://localhost:8080/",
          "height": 272
        },
        "outputId": "e90b3138-f7a3-4838-e8f0-89d182e0fb72"
      },
      "cell_type": "code",
      "source": [
        "glm.varimp()\n",
        "p_glm = glm.predict(test)\n",
        "\n",
        "p_glm"
      ],
      "execution_count": 29,
      "outputs": [
        {
          "output_type": "stream",
          "text": [
            "Warning: This model doesn't have variable importances\n",
            "glm prediction progress: |████████████████████████████████████████████████| 100%\n"
          ],
          "name": "stdout"
        },
        {
          "output_type": "display_data",
          "data": {
            "text/html": [
              "<table>\n",
              "<thead>\n",
              "<tr><th style=\"text-align: right;\">  predict</th></tr>\n",
              "</thead>\n",
              "<tbody>\n",
              "<tr><td style=\"text-align: right;\">  26.1322</td></tr>\n",
              "<tr><td style=\"text-align: right;\">  25.7297</td></tr>\n",
              "<tr><td style=\"text-align: right;\">  27.3891</td></tr>\n",
              "<tr><td style=\"text-align: right;\">  27.1553</td></tr>\n",
              "<tr><td style=\"text-align: right;\">  27.4842</td></tr>\n",
              "<tr><td style=\"text-align: right;\">  10.4336</td></tr>\n",
              "<tr><td style=\"text-align: right;\">  10.4336</td></tr>\n",
              "<tr><td style=\"text-align: right;\">  10.7371</td></tr>\n",
              "<tr><td style=\"text-align: right;\">  11.4684</td></tr>\n",
              "<tr><td style=\"text-align: right;\">  12.8578</td></tr>\n",
              "</tbody>\n",
              "</table>"
            ]
          },
          "metadata": {
            "tags": []
          }
        },
        {
          "output_type": "execute_result",
          "data": {
            "text/plain": [
              ""
            ]
          },
          "metadata": {
            "tags": []
          },
          "execution_count": 29
        }
      ]
    },
    {
      "metadata": {
        "id": "ABsGEdi3uG4E",
        "colab_type": "text"
      },
      "cell_type": "markdown",
      "source": [
        "# Deep Learning Models:\n",
        "\n",
        "Redes neurais com uma grande quantidade de camadas escondidas (deep)\n",
        "\n",
        "## Principais parâmetros:\n",
        "\n",
        "* número de epochs\n",
        "* número de neurônios em cada camada\n",
        "* número de camadas\n",
        "\n",
        "*You’ll be able to see if more epochs is going to help or not by look‐\n",
        "ing at the scoring history plot (on Flow, or plot it yourself with data\n",
        "from h2o.scoreHistory(m) in R, or m.scoring_history() in\n",
        "Python). If the line wobbles erratically, and the overall trend is\n",
        "sideways, not down, then more epochs is unlikely to help; try one\n",
        "of the other ideas. If it is merely getting rather flat, you have\n",
        "entered the realm of diminishing returns but, if you don’t mind\n",
        "waiting, then more epochs might give a small improvement*\n",
        "\n",
        "## Funções de ativação:\n",
        "\n",
        "Define a soma dos pesos em relação aos dados de entrada e saída. A escolha depende do problema que se está resolvendo\n",
        "\n",
        "### Rectifier:\n",
        "\n",
        "Função de ativação padrão, valores de saída variam entre 0 e 1. Geralmente costuma ser a opção mais rápida\n",
        "\n",
        "### Tanh\n",
        "\n",
        "Tangente hiperbólica, abrange outputs entre -1 e 1\n",
        "\n",
        "### Maxout\n",
        "\n",
        "Atribui os maiores valores\n",
        "\n",
        "## Parâmetros:\n",
        "\n",
        "* _hidden:_ número de camadas escondidas (200 por padrão, com duas camadas escondidas)\n",
        "* auto-encoder: falso por padrão (aprendizado não superfisionado), se verdadeiro, recomenda-se usar  _tanh_ como função de ativação.\n",
        "\n",
        "### Regularização:\n",
        "\n",
        "* _activation:_ define as funções de ativação e o dropout (elimina conexões entre layers)\n",
        "\n",
        "* *hidden_drouput_ratio* e *input_dropout_ratio:* definem as taxas de dropout das camadas escondidas e de entrada. Na cadama escondida, o padrão é 0.5, já na camada de entra é definido 0 por padrão (sem dropout)\n",
        "\n",
        "* *l1* e *l2:* Lasso e ridge regression, 0.0 por padrão.\n",
        "\n",
        "* *max_w2:* limite superior do quadrado da soma do quadrado dos pesos de entrada dos neurônios. Sem limite por padrão\n",
        "\n",
        "### Deep Learning Scoring:\n",
        "\n",
        "* *train_samples_per_iteration:* quantas amostras de treinamento serão usadas em cada iteração (quando o modelo será avaliado no final do ciclo). -2 por padrão (deixa o h2o decidir automaticamente)\n",
        "\n",
        "* *score_interval:*  tempo mínimo entre a avaliação dos modelos (5 por padrão)\n",
        "\n",
        "* *score_duty_cycle:*  Relação entre o tempo gasto em  _scoring_ e treinamento. (padrão é 0.1 - 10% scoring e 90% treinamento)\n",
        "\n",
        "* *replicate_training_data:* verdadeiro por padrão. replica os dados em cada nó do cluster (H2O server). Para datasets menores isso pode tornar o treinamento mais rápido.\n",
        "\n",
        "* *shuffle_training_data:* Falso por padrão. Caso verdadeiro, mistura os dados de forma aleatória\n",
        "\n",
        "\n",
        "\n"
      ]
    },
    {
      "metadata": {
        "id": "rjgQ31Lo51h4",
        "colab_type": "code",
        "colab": {
          "base_uri": "https://localhost:8080/",
          "height": 34
        },
        "outputId": "a41246e5-ee73-4733-d6a2-6cb9fe38cf7f"
      },
      "cell_type": "code",
      "source": [
        "dl = H2ODeepLearningEstimator(model_id = \"DL_defaults\", nfolds = 10)\n",
        "dl.train(x, y, train)"
      ],
      "execution_count": 36,
      "outputs": [
        {
          "output_type": "stream",
          "text": [
            "deeplearning Model Build progress: |██████████████████████████████████████| 100%\n"
          ],
          "name": "stdout"
        }
      ]
    }
  ]
}